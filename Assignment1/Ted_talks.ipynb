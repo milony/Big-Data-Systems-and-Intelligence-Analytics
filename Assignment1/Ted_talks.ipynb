{
 "cells": [
  {
   "cell_type": "markdown",
   "metadata": {},
   "source": [
    "# Part A - Data Cleaning"
   ]
  },
  {
   "cell_type": "code",
   "execution_count": 30,
   "metadata": {
    "collapsed": true
   },
   "outputs": [],
   "source": [
    "# importing all the required libraries\n",
    "import numpy as np\n",
    "import pandas as pd\n",
    "import matplotlib.pyplot as plt\n",
    "%matplotlib inline\n",
    "import seaborn as sns"
   ]
  },
  {
   "cell_type": "code",
   "execution_count": 14,
   "metadata": {
    "collapsed": true
   },
   "outputs": [],
   "source": [
    "# importing the data file\n",
    "data = pd.read_csv('C:/Users/mehta/Desktop/ted_main.csv')"
   ]
  },
  {
   "cell_type": "code",
   "execution_count": 15,
   "metadata": {
    "scrolled": false
   },
   "outputs": [
    {
     "data": {
      "text/plain": [
       "Index(['comments', 'description', 'duration', 'event', 'film_date',\n",
       "       'languages', 'main_speaker', 'name', 'num_speaker', 'published_date',\n",
       "       'ratings', 'related_talks', 'speaker_occupation', 'tags', 'title',\n",
       "       'url', 'views'],\n",
       "      dtype='object')"
      ]
     },
     "execution_count": 15,
     "metadata": {},
     "output_type": "execute_result"
    }
   ],
   "source": [
    "data.columns"
   ]
  },
  {
   "cell_type": "code",
   "execution_count": 16,
   "metadata": {},
   "outputs": [
    {
     "data": {
      "text/plain": [
       "(2550, 17)"
      ]
     },
     "execution_count": 16,
     "metadata": {},
     "output_type": "execute_result"
    }
   ],
   "source": [
    "# to check the total number of rows and columns\n",
    "data.shape"
   ]
  },
  {
   "cell_type": "code",
   "execution_count": 17,
   "metadata": {},
   "outputs": [
    {
     "name": "stdout",
     "output_type": "stream",
     "text": [
      "<class 'pandas.core.frame.DataFrame'>\n",
      "RangeIndex: 2550 entries, 0 to 2549\n",
      "Data columns (total 17 columns):\n",
      "comments              2550 non-null int64\n",
      "description           2550 non-null object\n",
      "duration              2550 non-null int64\n",
      "event                 2550 non-null object\n",
      "film_date             2550 non-null int64\n",
      "languages             2550 non-null int64\n",
      "main_speaker          2550 non-null object\n",
      "name                  2550 non-null object\n",
      "num_speaker           2550 non-null int64\n",
      "published_date        2550 non-null int64\n",
      "ratings               2550 non-null object\n",
      "related_talks         2550 non-null object\n",
      "speaker_occupation    2544 non-null object\n",
      "tags                  2550 non-null object\n",
      "title                 2550 non-null object\n",
      "url                   2550 non-null object\n",
      "views                 2550 non-null int64\n",
      "dtypes: int64(7), object(10)\n",
      "memory usage: 338.8+ KB\n"
     ]
    }
   ],
   "source": [
    "data.info()"
   ]
  },
  {
   "cell_type": "markdown",
   "metadata": {},
   "source": [
    "## Summary Statistics"
   ]
  },
  {
   "cell_type": "code",
   "execution_count": 18,
   "metadata": {},
   "outputs": [
    {
     "data": {
      "text/html": [
       "<div>\n",
       "<style>\n",
       "    .dataframe thead tr:only-child th {\n",
       "        text-align: right;\n",
       "    }\n",
       "\n",
       "    .dataframe thead th {\n",
       "        text-align: left;\n",
       "    }\n",
       "\n",
       "    .dataframe tbody tr th {\n",
       "        vertical-align: top;\n",
       "    }\n",
       "</style>\n",
       "<table border=\"1\" class=\"dataframe\">\n",
       "  <thead>\n",
       "    <tr style=\"text-align: right;\">\n",
       "      <th></th>\n",
       "      <th>comments</th>\n",
       "      <th>duration</th>\n",
       "      <th>film_date</th>\n",
       "      <th>languages</th>\n",
       "      <th>num_speaker</th>\n",
       "      <th>published_date</th>\n",
       "      <th>views</th>\n",
       "    </tr>\n",
       "  </thead>\n",
       "  <tbody>\n",
       "    <tr>\n",
       "      <th>count</th>\n",
       "      <td>2550.000000</td>\n",
       "      <td>2550.000000</td>\n",
       "      <td>2.550000e+03</td>\n",
       "      <td>2550.000000</td>\n",
       "      <td>2550.000000</td>\n",
       "      <td>2.550000e+03</td>\n",
       "      <td>2.550000e+03</td>\n",
       "    </tr>\n",
       "    <tr>\n",
       "      <th>mean</th>\n",
       "      <td>191.562353</td>\n",
       "      <td>826.510196</td>\n",
       "      <td>1.321928e+09</td>\n",
       "      <td>27.326275</td>\n",
       "      <td>1.028235</td>\n",
       "      <td>1.343525e+09</td>\n",
       "      <td>1.698297e+06</td>\n",
       "    </tr>\n",
       "    <tr>\n",
       "      <th>std</th>\n",
       "      <td>282.315223</td>\n",
       "      <td>374.009138</td>\n",
       "      <td>1.197391e+08</td>\n",
       "      <td>9.563452</td>\n",
       "      <td>0.207705</td>\n",
       "      <td>9.464009e+07</td>\n",
       "      <td>2.498479e+06</td>\n",
       "    </tr>\n",
       "    <tr>\n",
       "      <th>min</th>\n",
       "      <td>2.000000</td>\n",
       "      <td>135.000000</td>\n",
       "      <td>7.464960e+07</td>\n",
       "      <td>0.000000</td>\n",
       "      <td>1.000000</td>\n",
       "      <td>1.151367e+09</td>\n",
       "      <td>5.044300e+04</td>\n",
       "    </tr>\n",
       "    <tr>\n",
       "      <th>25%</th>\n",
       "      <td>63.000000</td>\n",
       "      <td>577.000000</td>\n",
       "      <td>1.257466e+09</td>\n",
       "      <td>23.000000</td>\n",
       "      <td>1.000000</td>\n",
       "      <td>1.268463e+09</td>\n",
       "      <td>7.557928e+05</td>\n",
       "    </tr>\n",
       "    <tr>\n",
       "      <th>50%</th>\n",
       "      <td>118.000000</td>\n",
       "      <td>848.000000</td>\n",
       "      <td>1.333238e+09</td>\n",
       "      <td>28.000000</td>\n",
       "      <td>1.000000</td>\n",
       "      <td>1.340935e+09</td>\n",
       "      <td>1.124524e+06</td>\n",
       "    </tr>\n",
       "    <tr>\n",
       "      <th>75%</th>\n",
       "      <td>221.750000</td>\n",
       "      <td>1046.750000</td>\n",
       "      <td>1.412964e+09</td>\n",
       "      <td>33.000000</td>\n",
       "      <td>1.000000</td>\n",
       "      <td>1.423432e+09</td>\n",
       "      <td>1.700760e+06</td>\n",
       "    </tr>\n",
       "    <tr>\n",
       "      <th>max</th>\n",
       "      <td>6404.000000</td>\n",
       "      <td>5256.000000</td>\n",
       "      <td>1.503792e+09</td>\n",
       "      <td>72.000000</td>\n",
       "      <td>5.000000</td>\n",
       "      <td>1.506092e+09</td>\n",
       "      <td>4.722711e+07</td>\n",
       "    </tr>\n",
       "  </tbody>\n",
       "</table>\n",
       "</div>"
      ],
      "text/plain": [
       "          comments     duration     film_date    languages  num_speaker  \\\n",
       "count  2550.000000  2550.000000  2.550000e+03  2550.000000  2550.000000   \n",
       "mean    191.562353   826.510196  1.321928e+09    27.326275     1.028235   \n",
       "std     282.315223   374.009138  1.197391e+08     9.563452     0.207705   \n",
       "min       2.000000   135.000000  7.464960e+07     0.000000     1.000000   \n",
       "25%      63.000000   577.000000  1.257466e+09    23.000000     1.000000   \n",
       "50%     118.000000   848.000000  1.333238e+09    28.000000     1.000000   \n",
       "75%     221.750000  1046.750000  1.412964e+09    33.000000     1.000000   \n",
       "max    6404.000000  5256.000000  1.503792e+09    72.000000     5.000000   \n",
       "\n",
       "       published_date         views  \n",
       "count    2.550000e+03  2.550000e+03  \n",
       "mean     1.343525e+09  1.698297e+06  \n",
       "std      9.464009e+07  2.498479e+06  \n",
       "min      1.151367e+09  5.044300e+04  \n",
       "25%      1.268463e+09  7.557928e+05  \n",
       "50%      1.340935e+09  1.124524e+06  \n",
       "75%      1.423432e+09  1.700760e+06  \n",
       "max      1.506092e+09  4.722711e+07  "
      ]
     },
     "execution_count": 18,
     "metadata": {},
     "output_type": "execute_result"
    }
   ],
   "source": [
    "data.describe()"
   ]
  },
  {
   "cell_type": "code",
   "execution_count": 21,
   "metadata": {},
   "outputs": [
    {
     "data": {
      "text/plain": [
       "comments              0\n",
       "description           0\n",
       "duration              0\n",
       "event                 0\n",
       "film_date             0\n",
       "languages             0\n",
       "main_speaker          0\n",
       "name                  0\n",
       "num_speaker           0\n",
       "published_date        0\n",
       "ratings               0\n",
       "related_talks         0\n",
       "speaker_occupation    0\n",
       "tags                  0\n",
       "title                 0\n",
       "url                   0\n",
       "views                 0\n",
       "dtype: int64"
      ]
     },
     "execution_count": 21,
     "metadata": {},
     "output_type": "execute_result"
    }
   ],
   "source": [
    "# to check the null values in the data set\n",
    "data.isnull().sum()"
   ]
  },
  {
   "cell_type": "markdown",
   "metadata": {},
   "source": [
    "## There are no missing values"
   ]
  },
  {
   "cell_type": "code",
   "execution_count": 22,
   "metadata": {},
   "outputs": [
    {
     "data": {
      "text/html": [
       "<div>\n",
       "<style>\n",
       "    .dataframe thead tr:only-child th {\n",
       "        text-align: right;\n",
       "    }\n",
       "\n",
       "    .dataframe thead th {\n",
       "        text-align: left;\n",
       "    }\n",
       "\n",
       "    .dataframe tbody tr th {\n",
       "        vertical-align: top;\n",
       "    }\n",
       "</style>\n",
       "<table border=\"1\" class=\"dataframe\">\n",
       "  <thead>\n",
       "    <tr style=\"text-align: right;\">\n",
       "      <th></th>\n",
       "      <th>comments</th>\n",
       "      <th>description</th>\n",
       "      <th>duration</th>\n",
       "      <th>event</th>\n",
       "      <th>film_date</th>\n",
       "      <th>languages</th>\n",
       "      <th>main_speaker</th>\n",
       "      <th>name</th>\n",
       "      <th>num_speaker</th>\n",
       "      <th>published_date</th>\n",
       "      <th>ratings</th>\n",
       "      <th>related_talks</th>\n",
       "      <th>speaker_occupation</th>\n",
       "      <th>tags</th>\n",
       "      <th>title</th>\n",
       "      <th>url</th>\n",
       "      <th>views</th>\n",
       "    </tr>\n",
       "  </thead>\n",
       "  <tbody>\n",
       "    <tr>\n",
       "      <th>0</th>\n",
       "      <td>4553</td>\n",
       "      <td>Sir Ken Robinson makes an entertaining and pro...</td>\n",
       "      <td>1164</td>\n",
       "      <td>TED2006</td>\n",
       "      <td>1140825600</td>\n",
       "      <td>60</td>\n",
       "      <td>Ken Robinson</td>\n",
       "      <td>Ken Robinson: Do schools kill creativity?</td>\n",
       "      <td>1</td>\n",
       "      <td>1151367060</td>\n",
       "      <td>[{'id': 7, 'name': 'Funny', 'count': 19645}, {...</td>\n",
       "      <td>[{'id': 865, 'hero': 'https://pe.tedcdn.com/im...</td>\n",
       "      <td>Author/educator</td>\n",
       "      <td>['children', 'creativity', 'culture', 'dance',...</td>\n",
       "      <td>Do schools kill creativity?</td>\n",
       "      <td>https://www.ted.com/talks/ken_robinson_says_sc...</td>\n",
       "      <td>47227110</td>\n",
       "    </tr>\n",
       "    <tr>\n",
       "      <th>1</th>\n",
       "      <td>265</td>\n",
       "      <td>With the same humor and humanity he exuded in ...</td>\n",
       "      <td>977</td>\n",
       "      <td>TED2006</td>\n",
       "      <td>1140825600</td>\n",
       "      <td>43</td>\n",
       "      <td>Al Gore</td>\n",
       "      <td>Al Gore: Averting the climate crisis</td>\n",
       "      <td>1</td>\n",
       "      <td>1151367060</td>\n",
       "      <td>[{'id': 7, 'name': 'Funny', 'count': 544}, {'i...</td>\n",
       "      <td>[{'id': 243, 'hero': 'https://pe.tedcdn.com/im...</td>\n",
       "      <td>Climate advocate</td>\n",
       "      <td>['alternative energy', 'cars', 'climate change...</td>\n",
       "      <td>Averting the climate crisis</td>\n",
       "      <td>https://www.ted.com/talks/al_gore_on_averting_...</td>\n",
       "      <td>3200520</td>\n",
       "    </tr>\n",
       "    <tr>\n",
       "      <th>2</th>\n",
       "      <td>124</td>\n",
       "      <td>New York Times columnist David Pogue takes aim...</td>\n",
       "      <td>1286</td>\n",
       "      <td>TED2006</td>\n",
       "      <td>1140739200</td>\n",
       "      <td>26</td>\n",
       "      <td>David Pogue</td>\n",
       "      <td>David Pogue: Simplicity sells</td>\n",
       "      <td>1</td>\n",
       "      <td>1151367060</td>\n",
       "      <td>[{'id': 7, 'name': 'Funny', 'count': 964}, {'i...</td>\n",
       "      <td>[{'id': 1725, 'hero': 'https://pe.tedcdn.com/i...</td>\n",
       "      <td>Technology columnist</td>\n",
       "      <td>['computers', 'entertainment', 'interface desi...</td>\n",
       "      <td>Simplicity sells</td>\n",
       "      <td>https://www.ted.com/talks/david_pogue_says_sim...</td>\n",
       "      <td>1636292</td>\n",
       "    </tr>\n",
       "    <tr>\n",
       "      <th>3</th>\n",
       "      <td>200</td>\n",
       "      <td>In an emotionally charged talk, MacArthur-winn...</td>\n",
       "      <td>1116</td>\n",
       "      <td>TED2006</td>\n",
       "      <td>1140912000</td>\n",
       "      <td>35</td>\n",
       "      <td>Majora Carter</td>\n",
       "      <td>Majora Carter: Greening the ghetto</td>\n",
       "      <td>1</td>\n",
       "      <td>1151367060</td>\n",
       "      <td>[{'id': 3, 'name': 'Courageous', 'count': 760}...</td>\n",
       "      <td>[{'id': 1041, 'hero': 'https://pe.tedcdn.com/i...</td>\n",
       "      <td>Activist for environmental justice</td>\n",
       "      <td>['MacArthur grant', 'activism', 'business', 'c...</td>\n",
       "      <td>Greening the ghetto</td>\n",
       "      <td>https://www.ted.com/talks/majora_carter_s_tale...</td>\n",
       "      <td>1697550</td>\n",
       "    </tr>\n",
       "    <tr>\n",
       "      <th>4</th>\n",
       "      <td>593</td>\n",
       "      <td>You've never seen data presented like this. Wi...</td>\n",
       "      <td>1190</td>\n",
       "      <td>TED2006</td>\n",
       "      <td>1140566400</td>\n",
       "      <td>48</td>\n",
       "      <td>Hans Rosling</td>\n",
       "      <td>Hans Rosling: The best stats you've ever seen</td>\n",
       "      <td>1</td>\n",
       "      <td>1151440680</td>\n",
       "      <td>[{'id': 9, 'name': 'Ingenious', 'count': 3202}...</td>\n",
       "      <td>[{'id': 2056, 'hero': 'https://pe.tedcdn.com/i...</td>\n",
       "      <td>Global health expert; data visionary</td>\n",
       "      <td>['Africa', 'Asia', 'Google', 'demo', 'economic...</td>\n",
       "      <td>The best stats you've ever seen</td>\n",
       "      <td>https://www.ted.com/talks/hans_rosling_shows_t...</td>\n",
       "      <td>12005869</td>\n",
       "    </tr>\n",
       "  </tbody>\n",
       "</table>\n",
       "</div>"
      ],
      "text/plain": [
       "   comments                                        description  duration  \\\n",
       "0      4553  Sir Ken Robinson makes an entertaining and pro...      1164   \n",
       "1       265  With the same humor and humanity he exuded in ...       977   \n",
       "2       124  New York Times columnist David Pogue takes aim...      1286   \n",
       "3       200  In an emotionally charged talk, MacArthur-winn...      1116   \n",
       "4       593  You've never seen data presented like this. Wi...      1190   \n",
       "\n",
       "     event   film_date  languages   main_speaker  \\\n",
       "0  TED2006  1140825600         60   Ken Robinson   \n",
       "1  TED2006  1140825600         43        Al Gore   \n",
       "2  TED2006  1140739200         26    David Pogue   \n",
       "3  TED2006  1140912000         35  Majora Carter   \n",
       "4  TED2006  1140566400         48   Hans Rosling   \n",
       "\n",
       "                                            name  num_speaker  published_date  \\\n",
       "0      Ken Robinson: Do schools kill creativity?            1      1151367060   \n",
       "1           Al Gore: Averting the climate crisis            1      1151367060   \n",
       "2                  David Pogue: Simplicity sells            1      1151367060   \n",
       "3             Majora Carter: Greening the ghetto            1      1151367060   \n",
       "4  Hans Rosling: The best stats you've ever seen            1      1151440680   \n",
       "\n",
       "                                             ratings  \\\n",
       "0  [{'id': 7, 'name': 'Funny', 'count': 19645}, {...   \n",
       "1  [{'id': 7, 'name': 'Funny', 'count': 544}, {'i...   \n",
       "2  [{'id': 7, 'name': 'Funny', 'count': 964}, {'i...   \n",
       "3  [{'id': 3, 'name': 'Courageous', 'count': 760}...   \n",
       "4  [{'id': 9, 'name': 'Ingenious', 'count': 3202}...   \n",
       "\n",
       "                                       related_talks  \\\n",
       "0  [{'id': 865, 'hero': 'https://pe.tedcdn.com/im...   \n",
       "1  [{'id': 243, 'hero': 'https://pe.tedcdn.com/im...   \n",
       "2  [{'id': 1725, 'hero': 'https://pe.tedcdn.com/i...   \n",
       "3  [{'id': 1041, 'hero': 'https://pe.tedcdn.com/i...   \n",
       "4  [{'id': 2056, 'hero': 'https://pe.tedcdn.com/i...   \n",
       "\n",
       "                     speaker_occupation  \\\n",
       "0                       Author/educator   \n",
       "1                      Climate advocate   \n",
       "2                  Technology columnist   \n",
       "3    Activist for environmental justice   \n",
       "4  Global health expert; data visionary   \n",
       "\n",
       "                                                tags  \\\n",
       "0  ['children', 'creativity', 'culture', 'dance',...   \n",
       "1  ['alternative energy', 'cars', 'climate change...   \n",
       "2  ['computers', 'entertainment', 'interface desi...   \n",
       "3  ['MacArthur grant', 'activism', 'business', 'c...   \n",
       "4  ['Africa', 'Asia', 'Google', 'demo', 'economic...   \n",
       "\n",
       "                             title  \\\n",
       "0      Do schools kill creativity?   \n",
       "1      Averting the climate crisis   \n",
       "2                 Simplicity sells   \n",
       "3              Greening the ghetto   \n",
       "4  The best stats you've ever seen   \n",
       "\n",
       "                                                 url     views  \n",
       "0  https://www.ted.com/talks/ken_robinson_says_sc...  47227110  \n",
       "1  https://www.ted.com/talks/al_gore_on_averting_...   3200520  \n",
       "2  https://www.ted.com/talks/david_pogue_says_sim...   1636292  \n",
       "3  https://www.ted.com/talks/majora_carter_s_tale...   1697550  \n",
       "4  https://www.ted.com/talks/hans_rosling_shows_t...  12005869  "
      ]
     },
     "execution_count": 22,
     "metadata": {},
     "output_type": "execute_result"
    }
   ],
   "source": [
    "# to see the first 5 rows of the data set\n",
    "data.head()"
   ]
  },
  {
   "cell_type": "code",
   "execution_count": 23,
   "metadata": {},
   "outputs": [
    {
     "data": {
      "text/plain": [
       "\"[{'id': 7, 'name': 'Funny', 'count': 19645}, {'id': 1, 'name': 'Beautiful', 'count': 4573}, {'id': 9, 'name': 'Ingenious', 'count': 6073}, {'id': 3, 'name': 'Courageous', 'count': 3253}, {'id': 11, 'name': 'Longwinded', 'count': 387}, {'id': 2, 'name': 'Confusing', 'count': 242}, {'id': 8, 'name': 'Informative', 'count': 7346}, {'id': 22, 'name': 'Fascinating', 'count': 10581}, {'id': 21, 'name': 'Unconvincing', 'count': 300}, {'id': 24, 'name': 'Persuasive', 'count': 10704}, {'id': 23, 'name': 'Jaw-dropping', 'count': 4439}, {'id': 25, 'name': 'OK', 'count': 1174}, {'id': 26, 'name': 'Obnoxious', 'count': 209}, {'id': 10, 'name': 'Inspiring', 'count': 24924}]\""
      ]
     },
     "execution_count": 23,
     "metadata": {},
     "output_type": "execute_result"
    }
   ],
   "source": [
    "# sample rating string\n",
    "data['ratings'][0]"
   ]
  },
  {
   "cell_type": "code",
   "execution_count": 24,
   "metadata": {
    "collapsed": true
   },
   "outputs": [],
   "source": [
    "import ast\n",
    "rating_names = set([])\n",
    "\n",
    "# Method to read get a list of rating \"names\".\n",
    "def split_ratings(ratings):\n",
    "    value = ast.literal_eval(ratings)\n",
    "    for rating in value:\n",
    "        rating_names.add(rating['name'])"
   ]
  },
  {
   "cell_type": "code",
   "execution_count": 25,
   "metadata": {},
   "outputs": [
    {
     "data": {
      "text/plain": [
       "0       None\n",
       "1       None\n",
       "2       None\n",
       "3       None\n",
       "4       None\n",
       "5       None\n",
       "6       None\n",
       "7       None\n",
       "8       None\n",
       "9       None\n",
       "10      None\n",
       "11      None\n",
       "12      None\n",
       "13      None\n",
       "14      None\n",
       "15      None\n",
       "16      None\n",
       "17      None\n",
       "18      None\n",
       "19      None\n",
       "20      None\n",
       "21      None\n",
       "22      None\n",
       "23      None\n",
       "24      None\n",
       "25      None\n",
       "26      None\n",
       "27      None\n",
       "28      None\n",
       "29      None\n",
       "        ... \n",
       "2520    None\n",
       "2521    None\n",
       "2522    None\n",
       "2523    None\n",
       "2524    None\n",
       "2525    None\n",
       "2526    None\n",
       "2527    None\n",
       "2528    None\n",
       "2529    None\n",
       "2530    None\n",
       "2531    None\n",
       "2532    None\n",
       "2533    None\n",
       "2534    None\n",
       "2535    None\n",
       "2536    None\n",
       "2537    None\n",
       "2538    None\n",
       "2539    None\n",
       "2540    None\n",
       "2541    None\n",
       "2542    None\n",
       "2543    None\n",
       "2544    None\n",
       "2545    None\n",
       "2546    None\n",
       "2547    None\n",
       "2548    None\n",
       "2549    None\n",
       "Name: ratings, Length: 2550, dtype: object"
      ]
     },
     "execution_count": 25,
     "metadata": {},
     "output_type": "execute_result"
    }
   ],
   "source": [
    "data['ratings'].apply(split_ratings)"
   ]
  },
  {
   "cell_type": "code",
   "execution_count": 26,
   "metadata": {},
   "outputs": [
    {
     "data": {
      "text/plain": [
       "{'Beautiful',\n",
       " 'Confusing',\n",
       " 'Courageous',\n",
       " 'Fascinating',\n",
       " 'Funny',\n",
       " 'Informative',\n",
       " 'Ingenious',\n",
       " 'Inspiring',\n",
       " 'Jaw-dropping',\n",
       " 'Longwinded',\n",
       " 'OK',\n",
       " 'Obnoxious',\n",
       " 'Persuasive',\n",
       " 'Unconvincing'}"
      ]
     },
     "execution_count": 26,
     "metadata": {},
     "output_type": "execute_result"
    }
   ],
   "source": [
    "# the rating names are:\n",
    "rating_names"
   ]
  },
  {
   "cell_type": "code",
   "execution_count": 27,
   "metadata": {
    "collapsed": true
   },
   "outputs": [],
   "source": [
    "# Method to return count of each rating. Here, column name represents a rating name.\n",
    "def get_count_from_ratings(ratings, col_name):\n",
    "    val = ast.literal_eval(ratings)\n",
    "    for rating in val:\n",
    "        if rating['name'] == col_name:\n",
    "            return rating['count']"
   ]
  },
  {
   "cell_type": "code",
   "execution_count": 28,
   "metadata": {
    "collapsed": true
   },
   "outputs": [],
   "source": [
    "for name in rating_names:\n",
    "    data[name] = data['ratings'].apply(lambda rating : get_count_from_ratings(rating, col_name=name))"
   ]
  },
  {
   "cell_type": "code",
   "execution_count": 29,
   "metadata": {},
   "outputs": [
    {
     "data": {
      "text/html": [
       "<div>\n",
       "<style>\n",
       "    .dataframe thead tr:only-child th {\n",
       "        text-align: right;\n",
       "    }\n",
       "\n",
       "    .dataframe thead th {\n",
       "        text-align: left;\n",
       "    }\n",
       "\n",
       "    .dataframe tbody tr th {\n",
       "        vertical-align: top;\n",
       "    }\n",
       "</style>\n",
       "<table border=\"1\" class=\"dataframe\">\n",
       "  <thead>\n",
       "    <tr style=\"text-align: right;\">\n",
       "      <th></th>\n",
       "      <th>comments</th>\n",
       "      <th>description</th>\n",
       "      <th>duration</th>\n",
       "      <th>event</th>\n",
       "      <th>film_date</th>\n",
       "      <th>languages</th>\n",
       "      <th>main_speaker</th>\n",
       "      <th>name</th>\n",
       "      <th>num_speaker</th>\n",
       "      <th>published_date</th>\n",
       "      <th>...</th>\n",
       "      <th>Longwinded</th>\n",
       "      <th>Courageous</th>\n",
       "      <th>Ingenious</th>\n",
       "      <th>Persuasive</th>\n",
       "      <th>Confusing</th>\n",
       "      <th>Obnoxious</th>\n",
       "      <th>Unconvincing</th>\n",
       "      <th>Beautiful</th>\n",
       "      <th>Funny</th>\n",
       "      <th>Fascinating</th>\n",
       "    </tr>\n",
       "  </thead>\n",
       "  <tbody>\n",
       "    <tr>\n",
       "      <th>0</th>\n",
       "      <td>4553</td>\n",
       "      <td>Sir Ken Robinson makes an entertaining and pro...</td>\n",
       "      <td>1164</td>\n",
       "      <td>TED2006</td>\n",
       "      <td>1140825600</td>\n",
       "      <td>60</td>\n",
       "      <td>Ken Robinson</td>\n",
       "      <td>Ken Robinson: Do schools kill creativity?</td>\n",
       "      <td>1</td>\n",
       "      <td>1151367060</td>\n",
       "      <td>...</td>\n",
       "      <td>387</td>\n",
       "      <td>3253</td>\n",
       "      <td>6073</td>\n",
       "      <td>10704</td>\n",
       "      <td>242</td>\n",
       "      <td>209</td>\n",
       "      <td>300</td>\n",
       "      <td>4573</td>\n",
       "      <td>19645</td>\n",
       "      <td>10581</td>\n",
       "    </tr>\n",
       "    <tr>\n",
       "      <th>1</th>\n",
       "      <td>265</td>\n",
       "      <td>With the same humor and humanity he exuded in ...</td>\n",
       "      <td>977</td>\n",
       "      <td>TED2006</td>\n",
       "      <td>1140825600</td>\n",
       "      <td>43</td>\n",
       "      <td>Al Gore</td>\n",
       "      <td>Al Gore: Averting the climate crisis</td>\n",
       "      <td>1</td>\n",
       "      <td>1151367060</td>\n",
       "      <td>...</td>\n",
       "      <td>113</td>\n",
       "      <td>139</td>\n",
       "      <td>56</td>\n",
       "      <td>268</td>\n",
       "      <td>62</td>\n",
       "      <td>131</td>\n",
       "      <td>258</td>\n",
       "      <td>58</td>\n",
       "      <td>544</td>\n",
       "      <td>132</td>\n",
       "    </tr>\n",
       "    <tr>\n",
       "      <th>2</th>\n",
       "      <td>124</td>\n",
       "      <td>New York Times columnist David Pogue takes aim...</td>\n",
       "      <td>1286</td>\n",
       "      <td>TED2006</td>\n",
       "      <td>1140739200</td>\n",
       "      <td>26</td>\n",
       "      <td>David Pogue</td>\n",
       "      <td>David Pogue: Simplicity sells</td>\n",
       "      <td>1</td>\n",
       "      <td>1151367060</td>\n",
       "      <td>...</td>\n",
       "      <td>78</td>\n",
       "      <td>45</td>\n",
       "      <td>183</td>\n",
       "      <td>230</td>\n",
       "      <td>27</td>\n",
       "      <td>142</td>\n",
       "      <td>104</td>\n",
       "      <td>60</td>\n",
       "      <td>964</td>\n",
       "      <td>166</td>\n",
       "    </tr>\n",
       "    <tr>\n",
       "      <th>3</th>\n",
       "      <td>200</td>\n",
       "      <td>In an emotionally charged talk, MacArthur-winn...</td>\n",
       "      <td>1116</td>\n",
       "      <td>TED2006</td>\n",
       "      <td>1140912000</td>\n",
       "      <td>35</td>\n",
       "      <td>Majora Carter</td>\n",
       "      <td>Majora Carter: Greening the ghetto</td>\n",
       "      <td>1</td>\n",
       "      <td>1151367060</td>\n",
       "      <td>...</td>\n",
       "      <td>53</td>\n",
       "      <td>760</td>\n",
       "      <td>105</td>\n",
       "      <td>460</td>\n",
       "      <td>32</td>\n",
       "      <td>35</td>\n",
       "      <td>36</td>\n",
       "      <td>291</td>\n",
       "      <td>59</td>\n",
       "      <td>132</td>\n",
       "    </tr>\n",
       "    <tr>\n",
       "      <th>4</th>\n",
       "      <td>593</td>\n",
       "      <td>You've never seen data presented like this. Wi...</td>\n",
       "      <td>1190</td>\n",
       "      <td>TED2006</td>\n",
       "      <td>1140566400</td>\n",
       "      <td>48</td>\n",
       "      <td>Hans Rosling</td>\n",
       "      <td>Hans Rosling: The best stats you've ever seen</td>\n",
       "      <td>1</td>\n",
       "      <td>1151440680</td>\n",
       "      <td>...</td>\n",
       "      <td>110</td>\n",
       "      <td>318</td>\n",
       "      <td>3202</td>\n",
       "      <td>2542</td>\n",
       "      <td>72</td>\n",
       "      <td>61</td>\n",
       "      <td>67</td>\n",
       "      <td>942</td>\n",
       "      <td>1390</td>\n",
       "      <td>4606</td>\n",
       "    </tr>\n",
       "  </tbody>\n",
       "</table>\n",
       "<p>5 rows × 31 columns</p>\n",
       "</div>"
      ],
      "text/plain": [
       "   comments                                        description  duration  \\\n",
       "0      4553  Sir Ken Robinson makes an entertaining and pro...      1164   \n",
       "1       265  With the same humor and humanity he exuded in ...       977   \n",
       "2       124  New York Times columnist David Pogue takes aim...      1286   \n",
       "3       200  In an emotionally charged talk, MacArthur-winn...      1116   \n",
       "4       593  You've never seen data presented like this. Wi...      1190   \n",
       "\n",
       "     event   film_date  languages   main_speaker  \\\n",
       "0  TED2006  1140825600         60   Ken Robinson   \n",
       "1  TED2006  1140825600         43        Al Gore   \n",
       "2  TED2006  1140739200         26    David Pogue   \n",
       "3  TED2006  1140912000         35  Majora Carter   \n",
       "4  TED2006  1140566400         48   Hans Rosling   \n",
       "\n",
       "                                            name  num_speaker  published_date  \\\n",
       "0      Ken Robinson: Do schools kill creativity?            1      1151367060   \n",
       "1           Al Gore: Averting the climate crisis            1      1151367060   \n",
       "2                  David Pogue: Simplicity sells            1      1151367060   \n",
       "3             Majora Carter: Greening the ghetto            1      1151367060   \n",
       "4  Hans Rosling: The best stats you've ever seen            1      1151440680   \n",
       "\n",
       "      ...      Longwinded Courageous Ingenious Persuasive Confusing Obnoxious  \\\n",
       "0     ...             387       3253      6073      10704       242       209   \n",
       "1     ...             113        139        56        268        62       131   \n",
       "2     ...              78         45       183        230        27       142   \n",
       "3     ...              53        760       105        460        32        35   \n",
       "4     ...             110        318      3202       2542        72        61   \n",
       "\n",
       "   Unconvincing  Beautiful  Funny  Fascinating  \n",
       "0           300       4573  19645        10581  \n",
       "1           258         58    544          132  \n",
       "2           104         60    964          166  \n",
       "3            36        291     59          132  \n",
       "4            67        942   1390         4606  \n",
       "\n",
       "[5 rows x 31 columns]"
      ]
     },
     "execution_count": 29,
     "metadata": {},
     "output_type": "execute_result"
    }
   ],
   "source": [
    "data.head(5)"
   ]
  },
  {
   "cell_type": "code",
   "execution_count": 31,
   "metadata": {},
   "outputs": [
    {
     "data": {
      "text/html": [
       "<div>\n",
       "<style>\n",
       "    .dataframe thead tr:only-child th {\n",
       "        text-align: right;\n",
       "    }\n",
       "\n",
       "    .dataframe thead th {\n",
       "        text-align: left;\n",
       "    }\n",
       "\n",
       "    .dataframe tbody tr th {\n",
       "        vertical-align: top;\n",
       "    }\n",
       "</style>\n",
       "<table border=\"1\" class=\"dataframe\">\n",
       "  <thead>\n",
       "    <tr style=\"text-align: right;\">\n",
       "      <th></th>\n",
       "      <th>title</th>\n",
       "      <th>main_speaker</th>\n",
       "      <th>views</th>\n",
       "      <th>film_date</th>\n",
       "    </tr>\n",
       "  </thead>\n",
       "  <tbody>\n",
       "    <tr>\n",
       "      <th>0</th>\n",
       "      <td>Do schools kill creativity?</td>\n",
       "      <td>Ken Robinson</td>\n",
       "      <td>47227110</td>\n",
       "      <td>1140825600</td>\n",
       "    </tr>\n",
       "    <tr>\n",
       "      <th>1346</th>\n",
       "      <td>Your body language may shape who you are</td>\n",
       "      <td>Amy Cuddy</td>\n",
       "      <td>43155405</td>\n",
       "      <td>1340668800</td>\n",
       "    </tr>\n",
       "    <tr>\n",
       "      <th>677</th>\n",
       "      <td>How great leaders inspire action</td>\n",
       "      <td>Simon Sinek</td>\n",
       "      <td>34309432</td>\n",
       "      <td>1253145600</td>\n",
       "    </tr>\n",
       "    <tr>\n",
       "      <th>837</th>\n",
       "      <td>The power of vulnerability</td>\n",
       "      <td>Brené Brown</td>\n",
       "      <td>31168150</td>\n",
       "      <td>1275782400</td>\n",
       "    </tr>\n",
       "    <tr>\n",
       "      <th>452</th>\n",
       "      <td>10 things you didn't know about orgasm</td>\n",
       "      <td>Mary Roach</td>\n",
       "      <td>22270883</td>\n",
       "      <td>1233878400</td>\n",
       "    </tr>\n",
       "    <tr>\n",
       "      <th>1776</th>\n",
       "      <td>How to speak so that people want to listen</td>\n",
       "      <td>Julian Treasure</td>\n",
       "      <td>21594632</td>\n",
       "      <td>1370822400</td>\n",
       "    </tr>\n",
       "    <tr>\n",
       "      <th>201</th>\n",
       "      <td>My stroke of insight</td>\n",
       "      <td>Jill Bolte Taylor</td>\n",
       "      <td>21190883</td>\n",
       "      <td>1204070400</td>\n",
       "    </tr>\n",
       "    <tr>\n",
       "      <th>5</th>\n",
       "      <td>Why we do what we do</td>\n",
       "      <td>Tony Robbins</td>\n",
       "      <td>20685401</td>\n",
       "      <td>1138838400</td>\n",
       "    </tr>\n",
       "    <tr>\n",
       "      <th>2114</th>\n",
       "      <td>This is what happens when you reply to spam email</td>\n",
       "      <td>James Veitch</td>\n",
       "      <td>20475972</td>\n",
       "      <td>1449532800</td>\n",
       "    </tr>\n",
       "    <tr>\n",
       "      <th>1416</th>\n",
       "      <td>Looks aren't everything. Believe me, I'm a model.</td>\n",
       "      <td>Cameron Russell</td>\n",
       "      <td>19787465</td>\n",
       "      <td>1351296000</td>\n",
       "    </tr>\n",
       "    <tr>\n",
       "      <th>500</th>\n",
       "      <td>The puzzle of motivation</td>\n",
       "      <td>Dan Pink</td>\n",
       "      <td>18830983</td>\n",
       "      <td>1248393600</td>\n",
       "    </tr>\n",
       "    <tr>\n",
       "      <th>1163</th>\n",
       "      <td>The power of introverts</td>\n",
       "      <td>Susan Cain</td>\n",
       "      <td>17629275</td>\n",
       "      <td>1330387200</td>\n",
       "    </tr>\n",
       "    <tr>\n",
       "      <th>1036</th>\n",
       "      <td>How to spot a liar</td>\n",
       "      <td>Pamela Meyer</td>\n",
       "      <td>16861578</td>\n",
       "      <td>1310515200</td>\n",
       "    </tr>\n",
       "    <tr>\n",
       "      <th>2109</th>\n",
       "      <td>What makes a good life? Lessons from the longe...</td>\n",
       "      <td>Robert Waldinger</td>\n",
       "      <td>16601927</td>\n",
       "      <td>1447459200</td>\n",
       "    </tr>\n",
       "    <tr>\n",
       "      <th>1129</th>\n",
       "      <td>The happy secret to better work</td>\n",
       "      <td>Shawn Achor</td>\n",
       "      <td>16209727</td>\n",
       "      <td>1305072000</td>\n",
       "    </tr>\n",
       "  </tbody>\n",
       "</table>\n",
       "</div>"
      ],
      "text/plain": [
       "                                                  title       main_speaker  \\\n",
       "0                           Do schools kill creativity?       Ken Robinson   \n",
       "1346           Your body language may shape who you are          Amy Cuddy   \n",
       "677                    How great leaders inspire action        Simon Sinek   \n",
       "837                          The power of vulnerability        Brené Brown   \n",
       "452              10 things you didn't know about orgasm         Mary Roach   \n",
       "1776         How to speak so that people want to listen    Julian Treasure   \n",
       "201                                My stroke of insight  Jill Bolte Taylor   \n",
       "5                                  Why we do what we do       Tony Robbins   \n",
       "2114  This is what happens when you reply to spam email       James Veitch   \n",
       "1416  Looks aren't everything. Believe me, I'm a model.    Cameron Russell   \n",
       "500                            The puzzle of motivation           Dan Pink   \n",
       "1163                            The power of introverts         Susan Cain   \n",
       "1036                                 How to spot a liar       Pamela Meyer   \n",
       "2109  What makes a good life? Lessons from the longe...   Robert Waldinger   \n",
       "1129                    The happy secret to better work        Shawn Achor   \n",
       "\n",
       "         views   film_date  \n",
       "0     47227110  1140825600  \n",
       "1346  43155405  1340668800  \n",
       "677   34309432  1253145600  \n",
       "837   31168150  1275782400  \n",
       "452   22270883  1233878400  \n",
       "1776  21594632  1370822400  \n",
       "201   21190883  1204070400  \n",
       "5     20685401  1138838400  \n",
       "2114  20475972  1449532800  \n",
       "1416  19787465  1351296000  \n",
       "500   18830983  1248393600  \n",
       "1163  17629275  1330387200  \n",
       "1036  16861578  1310515200  \n",
       "2109  16601927  1447459200  \n",
       "1129  16209727  1305072000  "
      ]
     },
     "execution_count": 31,
     "metadata": {},
     "output_type": "execute_result"
    }
   ],
   "source": [
    "# ANALYSIS BASED ON VIEWS\n",
    "# Most Viewed Talks of All Time(Top 15)\n",
    "most_viewed_talks = data[['title', 'main_speaker', 'views', 'film_date']].sort_values('views', ascending=False)[:15]\n",
    "most_viewed_talks"
   ]
  },
  {
   "cell_type": "code",
   "execution_count": 32,
   "metadata": {},
   "outputs": [
    {
     "data": {
      "text/plain": [
       "<matplotlib.axes._subplots.AxesSubplot at 0x296b9abfa20>"
      ]
     },
     "execution_count": 32,
     "metadata": {},
     "output_type": "execute_result"
    },
    {
     "data": {
      "image/png": "[encoded data removed]",
      "text/plain": [
       "<matplotlib.figure.Figure at 0x296b8d8f828>"
      ]
     },
     "metadata": {},
     "output_type": "display_data"
    }
   ],
   "source": [
    "most_viewed_talks['speaker'] = most_viewed_talks['main_speaker']\n",
    "sns.set_style(\"whitegrid\")\n",
    "plt.figure(figsize=(20,8))\n",
    "sns.barplot(x='speaker', y='views', data=most_viewed_talks)"
   ]
  },
  {
   "cell_type": "code",
   "execution_count": 33,
   "metadata": {},
   "outputs": [
    {
     "data": {
      "text/html": [
       "<div>\n",
       "<style>\n",
       "    .dataframe thead tr:only-child th {\n",
       "        text-align: right;\n",
       "    }\n",
       "\n",
       "    .dataframe thead th {\n",
       "        text-align: left;\n",
       "    }\n",
       "\n",
       "    .dataframe tbody tr th {\n",
       "        vertical-align: top;\n",
       "    }\n",
       "</style>\n",
       "<table border=\"1\" class=\"dataframe\">\n",
       "  <thead>\n",
       "    <tr style=\"text-align: right;\">\n",
       "      <th></th>\n",
       "      <th>comments</th>\n",
       "      <th>description</th>\n",
       "      <th>duration</th>\n",
       "      <th>event</th>\n",
       "      <th>film_date</th>\n",
       "      <th>languages</th>\n",
       "      <th>main_speaker</th>\n",
       "      <th>name</th>\n",
       "      <th>num_speaker</th>\n",
       "      <th>published_date</th>\n",
       "      <th>...</th>\n",
       "      <th>Longwinded</th>\n",
       "      <th>Courageous</th>\n",
       "      <th>Ingenious</th>\n",
       "      <th>Persuasive</th>\n",
       "      <th>Confusing</th>\n",
       "      <th>Obnoxious</th>\n",
       "      <th>Unconvincing</th>\n",
       "      <th>Beautiful</th>\n",
       "      <th>Funny</th>\n",
       "      <th>Fascinating</th>\n",
       "    </tr>\n",
       "  </thead>\n",
       "  <tbody>\n",
       "    <tr>\n",
       "      <th>0</th>\n",
       "      <td>4553</td>\n",
       "      <td>Sir Ken Robinson makes an entertaining and pro...</td>\n",
       "      <td>1164</td>\n",
       "      <td>TED2006</td>\n",
       "      <td>1140825600</td>\n",
       "      <td>60</td>\n",
       "      <td>Ken Robinson</td>\n",
       "      <td>Ken Robinson: Do schools kill creativity?</td>\n",
       "      <td>1</td>\n",
       "      <td>1151367060</td>\n",
       "      <td>...</td>\n",
       "      <td>387</td>\n",
       "      <td>3253</td>\n",
       "      <td>6073</td>\n",
       "      <td>10704</td>\n",
       "      <td>242</td>\n",
       "      <td>209</td>\n",
       "      <td>300</td>\n",
       "      <td>4573</td>\n",
       "      <td>19645</td>\n",
       "      <td>10581</td>\n",
       "    </tr>\n",
       "    <tr>\n",
       "      <th>692</th>\n",
       "      <td>1234</td>\n",
       "      <td>In this poignant, funny follow-up to his fable...</td>\n",
       "      <td>1008</td>\n",
       "      <td>TED2010</td>\n",
       "      <td>1265414400</td>\n",
       "      <td>57</td>\n",
       "      <td>Ken Robinson</td>\n",
       "      <td>Ken Robinson: Bring on the learning revolution!</td>\n",
       "      <td>1</td>\n",
       "      <td>1274691960</td>\n",
       "      <td>...</td>\n",
       "      <td>71</td>\n",
       "      <td>885</td>\n",
       "      <td>1116</td>\n",
       "      <td>2876</td>\n",
       "      <td>34</td>\n",
       "      <td>38</td>\n",
       "      <td>83</td>\n",
       "      <td>1248</td>\n",
       "      <td>3000</td>\n",
       "      <td>2199</td>\n",
       "    </tr>\n",
       "    <tr>\n",
       "      <th>1502</th>\n",
       "      <td>634</td>\n",
       "      <td>Sir Ken Robinson outlines 3 principles crucial...</td>\n",
       "      <td>1151</td>\n",
       "      <td>TED Talks Education</td>\n",
       "      <td>1366675200</td>\n",
       "      <td>43</td>\n",
       "      <td>Ken Robinson</td>\n",
       "      <td>Ken Robinson: How to escape education's death ...</td>\n",
       "      <td>1</td>\n",
       "      <td>1368198532</td>\n",
       "      <td>...</td>\n",
       "      <td>14</td>\n",
       "      <td>385</td>\n",
       "      <td>559</td>\n",
       "      <td>1434</td>\n",
       "      <td>8</td>\n",
       "      <td>16</td>\n",
       "      <td>24</td>\n",
       "      <td>419</td>\n",
       "      <td>1541</td>\n",
       "      <td>911</td>\n",
       "    </tr>\n",
       "    <tr>\n",
       "      <th>833</th>\n",
       "      <td>473</td>\n",
       "      <td>In this talk from RSA Animate, Sir Ken Robinso...</td>\n",
       "      <td>700</td>\n",
       "      <td>RSA Animate</td>\n",
       "      <td>1287014400</td>\n",
       "      <td>0</td>\n",
       "      <td>Ken Robinson</td>\n",
       "      <td>Ken Robinson: Changing education paradigms</td>\n",
       "      <td>1</td>\n",
       "      <td>1292773140</td>\n",
       "      <td>...</td>\n",
       "      <td>22</td>\n",
       "      <td>330</td>\n",
       "      <td>893</td>\n",
       "      <td>1452</td>\n",
       "      <td>27</td>\n",
       "      <td>34</td>\n",
       "      <td>41</td>\n",
       "      <td>280</td>\n",
       "      <td>574</td>\n",
       "      <td>1364</td>\n",
       "    </tr>\n",
       "  </tbody>\n",
       "</table>\n",
       "<p>4 rows × 31 columns</p>\n",
       "</div>"
      ],
      "text/plain": [
       "      comments                                        description  duration  \\\n",
       "0         4553  Sir Ken Robinson makes an entertaining and pro...      1164   \n",
       "692       1234  In this poignant, funny follow-up to his fable...      1008   \n",
       "1502       634  Sir Ken Robinson outlines 3 principles crucial...      1151   \n",
       "833        473  In this talk from RSA Animate, Sir Ken Robinso...       700   \n",
       "\n",
       "                    event   film_date  languages  main_speaker  \\\n",
       "0                 TED2006  1140825600         60  Ken Robinson   \n",
       "692               TED2010  1265414400         57  Ken Robinson   \n",
       "1502  TED Talks Education  1366675200         43  Ken Robinson   \n",
       "833           RSA Animate  1287014400          0  Ken Robinson   \n",
       "\n",
       "                                                   name  num_speaker  \\\n",
       "0             Ken Robinson: Do schools kill creativity?            1   \n",
       "692     Ken Robinson: Bring on the learning revolution!            1   \n",
       "1502  Ken Robinson: How to escape education's death ...            1   \n",
       "833          Ken Robinson: Changing education paradigms            1   \n",
       "\n",
       "      published_date     ...      Longwinded Courageous Ingenious Persuasive  \\\n",
       "0         1151367060     ...             387       3253      6073      10704   \n",
       "692       1274691960     ...              71        885      1116       2876   \n",
       "1502      1368198532     ...              14        385       559       1434   \n",
       "833       1292773140     ...              22        330       893       1452   \n",
       "\n",
       "     Confusing Obnoxious  Unconvincing  Beautiful  Funny  Fascinating  \n",
       "0          242       209           300       4573  19645        10581  \n",
       "692         34        38            83       1248   3000         2199  \n",
       "1502         8        16            24        419   1541          911  \n",
       "833         27        34            41        280    574         1364  \n",
       "\n",
       "[4 rows x 31 columns]"
      ]
     },
     "execution_count": 33,
     "metadata": {},
     "output_type": "execute_result"
    }
   ],
   "source": [
    "# All the other talks by Ken Robinson who is the speaker of the most viewed talk\n",
    "data.loc[data['main_speaker']=='Ken Robinson'].sort_values('views',ascending=False)"
   ]
  },
  {
   "cell_type": "code",
   "execution_count": 34,
   "metadata": {},
   "outputs": [
    {
     "data": {
      "text/plain": [
       "count    2.550000e+03\n",
       "mean     1.698297e+06\n",
       "std      2.498479e+06\n",
       "min      5.044300e+04\n",
       "25%      7.557928e+05\n",
       "50%      1.124524e+06\n",
       "75%      1.700760e+06\n",
       "max      4.722711e+07\n",
       "Name: views, dtype: float64"
      ]
     },
     "execution_count": 34,
     "metadata": {},
     "output_type": "execute_result"
    }
   ],
   "source": [
    "data['views'].describe()"
   ]
  },
  {
   "cell_type": "markdown",
   "metadata": {},
   "source": [
    "The results above show that:\n",
    "The average number of views on TED Talks in 1.6 million.The median number of views is 1.12 million.This suggests a very high average level of popularity of TED Talks.It can also be noticed that the majority of talks have views less than 4 million. "
   ]
  },
  {
   "cell_type": "code",
   "execution_count": 35,
   "metadata": {},
   "outputs": [
    {
     "data": {
      "text/plain": [
       "count    2550.000000\n",
       "mean      191.562353\n",
       "std       282.315223\n",
       "min         2.000000\n",
       "25%        63.000000\n",
       "50%       118.000000\n",
       "75%       221.750000\n",
       "max      6404.000000\n",
       "Name: comments, dtype: float64"
      ]
     },
     "execution_count": 35,
     "metadata": {},
     "output_type": "execute_result"
    }
   ],
   "source": [
    "# ANALYSIS BASED ON COMMENTS\n",
    "data['comments'].describe()"
   ]
  },
  {
   "cell_type": "markdown",
   "metadata": {},
   "source": [
    "The results above show that:\n",
    "The average number of comments on TED Talks in 191.5 The max and min number of comments is 6404 and 2. There is a huge standard deviation associated with the comments. In fact, it is even larger than the mean suggesting that this measure may be sensitive to outliers"
   ]
  },
  {
   "cell_type": "code",
   "execution_count": 36,
   "metadata": {},
   "outputs": [
    {
     "data": {
      "text/plain": [
       "<matplotlib.axes._subplots.AxesSubplot at 0x296b8e43ef0>"
      ]
     },
     "execution_count": 36,
     "metadata": {},
     "output_type": "execute_result"
    },
    {
     "data": {
      "image/png": "[encoded data removed]",
      "text/plain": [
       "<matplotlib.figure.Figure at 0x296b8e2f748>"
      ]
     },
     "metadata": {},
     "output_type": "display_data"
    }
   ],
   "source": [
    "sns.distplot(data['comments'])"
   ]
  },
  {
   "cell_type": "code",
   "execution_count": 37,
   "metadata": {},
   "outputs": [
    {
     "data": {
      "text/plain": [
       "<matplotlib.axes._subplots.AxesSubplot at 0x296b8e2f518>"
      ]
     },
     "execution_count": 37,
     "metadata": {},
     "output_type": "execute_result"
    },
    {
     "data": {
      "image/png": "[encoded data removed]",
      "text/plain": [
       "<matplotlib.figure.Figure at 0x296b88ed860>"
      ]
     },
     "metadata": {},
     "output_type": "display_data"
    }
   ],
   "source": [
    "sns.distplot(data[data['comments'] < 500]['comments'])"
   ]
  },
  {
   "cell_type": "markdown",
   "metadata": {},
   "source": [
    "From the plots above we can deduce that majority of the talks have comments less than 500. The mean can thus be heavily influenced by the outliers"
   ]
  },
  {
   "cell_type": "code",
   "execution_count": 38,
   "metadata": {
    "collapsed": true
   },
   "outputs": [],
   "source": [
    "# ANALYSIS BY MONTH AND YEAR\n",
    "df = pd.read_csv('C:/Users/mehta/Desktop/ted_main.csv')"
   ]
  },
  {
   "cell_type": "code",
   "execution_count": 43,
   "metadata": {
    "collapsed": true
   },
   "outputs": [],
   "source": [
    "import datetime\n",
    "\n",
    "month_order = ['Jan', 'Feb', 'Mar', 'Apr', 'May', 'Jun', 'Jul', 'Aug', 'Sep', 'Oct', 'Nov', 'Dec']\n",
    "day_order = ['Mon', 'Tue', 'Wed', 'Thu', 'Fri', 'Sat', 'Sun']"
   ]
  },
  {
   "cell_type": "code",
   "execution_count": 44,
   "metadata": {
    "collapsed": true
   },
   "outputs": [],
   "source": [
    "data['film_date'] = df['film_date'].apply(lambda x: datetime.datetime.fromtimestamp( int(x)).strftime('%d-%m-%Y'))\n",
    "data['published_date'] = df['published_date'].apply(lambda x: datetime.datetime.fromtimestamp( int(x)).strftime('%d-%m-%Y'))"
   ]
  },
  {
   "cell_type": "markdown",
   "metadata": {},
   "source": [
    "Dates were converted from an UnixTimeStamp to dateTime format"
   ]
  },
  {
   "cell_type": "code",
   "execution_count": 46,
   "metadata": {
    "collapsed": true
   },
   "outputs": [],
   "source": [
    "data['month_filmDate'] = data['film_date'].apply(lambda x: month_order[int(x.split('-')[1]) - 1])\n",
    "month_df = pd.DataFrame(data['month_filmDate'].value_counts()).reset_index()"
   ]
  },
  {
   "cell_type": "code",
   "execution_count": 196,
   "metadata": {
    "collapsed": true
   },
   "outputs": [],
   "source": [
    "month_df.columns = ['month_filmDate', 'talks']"
   ]
  },
  {
   "cell_type": "code",
   "execution_count": 197,
   "metadata": {},
   "outputs": [
    {
     "data": {
      "text/plain": [
       "<matplotlib.axes._subplots.AxesSubplot at 0x2a3aead19e8>"
      ]
     },
     "execution_count": 197,
     "metadata": {},
     "output_type": "execute_result"
    },
    {
     "data": {
      "image/png": "[encoded data removed]",
      "text/plain": [
       "<matplotlib.figure.Figure at 0x2a3aeaa3a58>"
      ]
     },
     "metadata": {},
     "output_type": "display_data"
    }
   ],
   "source": [
    "sns.barplot(x='month_filmDate', y='talks', data=month_df, order=month_order)"
   ]
  },
  {
   "cell_type": "markdown",
   "metadata": {},
   "source": [
    "The above plot shows the number of talks that were filmed in each month"
   ]
  },
  {
   "cell_type": "code",
   "execution_count": 49,
   "metadata": {
    "collapsed": true
   },
   "outputs": [],
   "source": [
    "df_x = data[data['event'].str.contains('TEDx')]\n",
    "x_month_df = pd.DataFrame(df_x['month_filmDate'].value_counts().reset_index())\n",
    "x_month_df.columns = ['month_filmDate', 'talks']"
   ]
  },
  {
   "cell_type": "code",
   "execution_count": 50,
   "metadata": {},
   "outputs": [
    {
     "data": {
      "text/plain": [
       "<matplotlib.axes._subplots.AxesSubplot at 0x296b84a2898>"
      ]
     },
     "execution_count": 50,
     "metadata": {},
     "output_type": "execute_result"
    },
    {
     "data": {
      "image/png": "[encoded data removed]",
      "text/plain": [
       "<matplotlib.figure.Figure at 0x296b9590860>"
      ]
     },
     "metadata": {},
     "output_type": "display_data"
    }
   ],
   "source": [
    "sns.barplot(x='month_filmDate', y='talks', data=x_month_df, order=month_order)"
   ]
  },
  {
   "cell_type": "markdown",
   "metadata": {},
   "source": [
    "The above plot shows the number of TEDx talks that were filmed in each month"
   ]
  },
  {
   "cell_type": "code",
   "execution_count": 52,
   "metadata": {
    "collapsed": true
   },
   "outputs": [],
   "source": [
    "data['year_FD'] = data['film_date'].apply(lambda x: x.split('-')[2])\n",
    "year_df = pd.DataFrame(dataplt.figure(figsize=(18,5))\n",
    "sns.pointplot(x='year', y='talks', data=year_df)['year_FD'].value_counts().reset_index())\n",
    "year_df.columns = ['year_FD', 'talks']"
   ]
  },
  {
   "cell_type": "code",
   "execution_count": 54,
   "metadata": {},
   "outputs": [
    {
     "data": {
      "text/plain": [
       "<matplotlib.axes._subplots.AxesSubplot at 0x296b1656cf8>"
      ]
     },
     "execution_count": 54,
     "metadata": {},
     "output_type": "execute_result"
    },
    {
     "data": {
      "image/png": "[encoded data removed]",
      "text/plain": [
       "<matplotlib.figure.Figure at 0x296b9539c50>"
      ]
     },
     "metadata": {},
     "output_type": "display_data"
    }
   ],
   "source": [
    "plt.figure(figsize=(12,5))\n",
    "sns.pointplot(x='year_FD', y='talks', data=year_df)"
   ]
  },
  {
   "cell_type": "markdown",
   "metadata": {},
   "source": [
    "The total number of talks filmed from the year 1972 to 2017"
   ]
  },
  {
   "cell_type": "code",
   "execution_count": 55,
   "metadata": {},
   "outputs": [
    {
     "data": {
      "text/html": [
       "<div>\n",
       "<style>\n",
       "    .dataframe thead tr:only-child th {\n",
       "        text-align: right;\n",
       "    }\n",
       "\n",
       "    .dataframe thead th {\n",
       "        text-align: left;\n",
       "    }\n",
       "\n",
       "    .dataframe tbody tr th {\n",
       "        vertical-align: top;\n",
       "    }\n",
       "</style>\n",
       "<table border=\"1\" class=\"dataframe\">\n",
       "  <thead>\n",
       "    <tr style=\"text-align: right;\">\n",
       "      <th></th>\n",
       "      <th>main_speaker</th>\n",
       "      <th>appearances</th>\n",
       "    </tr>\n",
       "  </thead>\n",
       "  <tbody>\n",
       "    <tr>\n",
       "      <th>770</th>\n",
       "      <td>Hans Rosling</td>\n",
       "      <td>9</td>\n",
       "    </tr>\n",
       "    <tr>\n",
       "      <th>1066</th>\n",
       "      <td>Juan Enriquez</td>\n",
       "      <td>7</td>\n",
       "    </tr>\n",
       "    <tr>\n",
       "      <th>1693</th>\n",
       "      <td>Rives</td>\n",
       "      <td>6</td>\n",
       "    </tr>\n",
       "    <tr>\n",
       "      <th>1278</th>\n",
       "      <td>Marco Tempest</td>\n",
       "      <td>6</td>\n",
       "    </tr>\n",
       "    <tr>\n",
       "      <th>397</th>\n",
       "      <td>Clay Shirky</td>\n",
       "      <td>5</td>\n",
       "    </tr>\n",
       "    <tr>\n",
       "      <th>1487</th>\n",
       "      <td>Nicholas Negroponte</td>\n",
       "      <td>5</td>\n",
       "    </tr>\n",
       "    <tr>\n",
       "      <th>1075</th>\n",
       "      <td>Julian Treasure</td>\n",
       "      <td>5</td>\n",
       "    </tr>\n",
       "    <tr>\n",
       "      <th>424</th>\n",
       "      <td>Dan Ariely</td>\n",
       "      <td>5</td>\n",
       "    </tr>\n",
       "    <tr>\n",
       "      <th>850</th>\n",
       "      <td>Jacqueline Novogratz</td>\n",
       "      <td>5</td>\n",
       "    </tr>\n",
       "    <tr>\n",
       "      <th>248</th>\n",
       "      <td>Bill Gates</td>\n",
       "      <td>5</td>\n",
       "    </tr>\n",
       "  </tbody>\n",
       "</table>\n",
       "</div>"
      ],
      "text/plain": [
       "              main_speaker  appearances\n",
       "770           Hans Rosling            9\n",
       "1066         Juan Enriquez            7\n",
       "1693                 Rives            6\n",
       "1278         Marco Tempest            6\n",
       "397            Clay Shirky            5\n",
       "1487   Nicholas Negroponte            5\n",
       "1075       Julian Treasure            5\n",
       "424             Dan Ariely            5\n",
       "850   Jacqueline Novogratz            5\n",
       "248             Bill Gates            5"
      ]
     },
     "execution_count": 55,
     "metadata": {},
     "output_type": "execute_result"
    }
   ],
   "source": [
    "speaker_df = data.groupby('main_speaker').count().reset_index()[['main_speaker', 'comments']]\n",
    "speaker_df.columns = ['main_speaker', 'appearances']\n",
    "speaker_df = speaker_df.sort_values('appearances', ascending=False)\n",
    "speaker_df.head(10)"
   ]
  },
  {
   "cell_type": "code",
   "execution_count": 57,
   "metadata": {
    "collapsed": true
   },
   "outputs": [],
   "source": [
    "occupation_df = data.groupby('speaker_occupation').count().reset_index()[['speaker_occupation', 'comments']]\n",
    "occupation_df.columns = ['occupation', 'appearances']\n",
    "occupation_df = occupation_df.sort_values('appearances', ascending=False)"
   ]
  },
  {
   "cell_type": "code",
   "execution_count": 58,
   "metadata": {},
   "outputs": [
    {
     "data": {
      "image/png": "[encoded data removed]",
      "text/plain": [
       "<matplotlib.figure.Figure at 0x296bcb1dc18>"
      ]
     },
     "metadata": {},
     "output_type": "display_data"
    }
   ],
   "source": [
    "plt.figure(figsize=(10,5))\n",
    "sns.barplot(x='occupation', y='appearances', data=occupation_df.head(5))\n",
    "plt.show()"
   ]
  },
  {
   "cell_type": "markdown",
   "metadata": {},
   "source": [
    "The top occupations who have given the maximum talks "
   ]
  },
  {
   "cell_type": "code",
   "execution_count": 59,
   "metadata": {},
   "outputs": [
    {
     "data": {
      "image/png": "[encoded data removed]",
      "text/plain": [
       "<matplotlib.figure.Figure at 0x296bc5f7208>"
      ]
     },
     "metadata": {},
     "output_type": "display_data"
    }
   ],
   "source": [
    "fig, ax = plt.subplots(nrows=1, ncols=1,figsize=(15, 8))\n",
    "sns.boxplot(x='speaker_occupation', y='views', data=df[df['speaker_occupation'].isin(occupation_df.head(10)['occupation'])], palette=\"muted\", ax =ax)\n",
    "ax.set_ylim([0, 0.4e7])\n",
    "plt.show()"
   ]
  },
  {
   "cell_type": "markdown",
   "metadata": {},
   "source": [
    "There are very few outliers in the above plot"
   ]
  },
  {
   "cell_type": "code",
   "execution_count": 60,
   "metadata": {},
   "outputs": [
    {
     "data": {
      "text/plain": [
       "0       [children, creativity, culture, dance, educati...\n",
       "1       [alternative energy, cars, climate change, cul...\n",
       "2       [computers, entertainment, interface design, m...\n",
       "3       [MacArthur grant, activism, business, cities, ...\n",
       "4       [Africa, Asia, Google, demo, economics, global...\n",
       "5       [business, culture, entertainment, goal-settin...\n",
       "6       [Christianity, God, atheism, comedy, culture, ...\n",
       "7       [architecture, collaboration, culture, design,...\n",
       "8       [God, TED Brain Trust, atheism, brain, cogniti...\n",
       "9       [Christianity, God, culture, happiness, leader...\n",
       "10      [activism, architecture, collaboration, cultur...\n",
       "11      [TED Prize, art, culture, entertainment, film,...\n",
       "12      [TED Prize, collaboration, disease, ebola, glo...\n",
       "13           [demo, design, interface design, technology]\n",
       "14      [children, design, education, entrepreneur, gl...\n",
       "15      [entertainment, music, performance, violin, wu...\n",
       "16      [creativity, entertainment, music, performance...\n",
       "17      [MacArthur grant, alternative energy, design, ...\n",
       "18      [DNA, biology, creativity, design, industrial ...\n",
       "19      [business, collaboration, culture, invention, ...\n",
       "20      [business, collaboration, culture, global issu...\n",
       "21      [collaboration, comedy, community, culture, da...\n",
       "22      [business, communication, community, culture, ...\n",
       "23      [cognitive science, culture, evolution, gender...\n",
       "24      [culture, entertainment, gender, global issues...\n",
       "25      [climate change, cosmos, culture, environment,...\n",
       "26      [astronomy, biology, cognitive science, cosmos...\n",
       "27      [business, cities, culture, economics, narcoti...\n",
       "28      [business, choice, consumerism, culture, econo...\n",
       "29      [TED Brain Trust, brain, choice, culture, evol...\n",
       "                              ...                        \n",
       "2520    [AI, computers, economics, future, humanity, i...\n",
       "2521    [biology, biomechanics, cancer, chemistry, dis...\n",
       "2522    [Africa, art, beauty, creativity, performance ...\n",
       "2523    [TEDx, business, capitalism, community, econom...\n",
       "2524    [Africa, TED Fellows, art, creativity, storyte...\n",
       "2525    [TEDx, activism, children, family, poverty, so...\n",
       "2526    [AI, education, intelligence, robots, teaching...\n",
       "2527    [TEDx, United States, activism, democracy, gov...\n",
       "2528    [TEDx, ancient world, archaeology, conservatio...\n",
       "2529    [TEDx, community, humanity, identity, inequali...\n",
       "2530    [architecture, art, cities, creativity, design...\n",
       "2531    [TEDx, security, social media, terrorism, viol...\n",
       "2532    [algorithm, business, collaboration, communica...\n",
       "2533    [TED en Español, art, creativity, design, envi...\n",
       "2534    [TEDx, art, climate change, environment, photo...\n",
       "2535    [Africa, activism, cities, government, poverty...\n",
       "2536    [TEDx, communication, friendship, politics, so...\n",
       "2537    [happiness, humanity, personal growth, psychol...\n",
       "2538    [TEDx, business, corruption, economics, financ...\n",
       "2539     [Africa, agriculture, farming, food, innovation]\n",
       "2540    [business, capitalism, collaboration, economic...\n",
       "2541                       [TEDx, physics, play, science]\n",
       "2542    [Africa, activism, art, community, history, id...\n",
       "2543    [DNA, Human body, biology, data, entrepreneur,...\n",
       "2544    [Africa, agriculture, history, leadership, lib...\n",
       "2545    [TED Residency, United States, community, fami...\n",
       "2546    [Mars, South America, TED Fellows, astrobiolog...\n",
       "2547    [AI, ants, fish, future, innovation, insects, ...\n",
       "2548    [Internet, TEDx, United States, community, com...\n",
       "2549    [cities, design, future, infrastructure, play,...\n",
       "Name: tags, Length: 2550, dtype: object"
      ]
     },
     "execution_count": 60,
     "metadata": {},
     "output_type": "execute_result"
    }
   ],
   "source": [
    "import ast\n",
    "\n",
    "data['tags'] = data['tags'].apply(lambda x: ast.literal_eval(x))\n",
    "data['tags'] "
   ]
  },
  {
   "cell_type": "code",
   "execution_count": 61,
   "metadata": {
    "collapsed": true
   },
   "outputs": [],
   "source": [
    "s = data.apply(lambda x: pd.Series(x['tags']),axis=1).stack().reset_index(level=1, drop=True)\n",
    "s.name = 'theme'"
   ]
  },
  {
   "cell_type": "code",
   "execution_count": 63,
   "metadata": {},
   "outputs": [
    {
     "data": {
      "text/plain": [
       "Index(['comments', 'description', 'duration', 'event', 'film_date',\n",
       "       'languages', 'main_speaker', 'name', 'num_speaker', 'published_date',\n",
       "       'ratings', 'related_talks', 'speaker_occupation', 'title', 'url',\n",
       "       'views', 'Jaw-dropping', 'Inspiring', 'Informative', 'OK', 'Longwinded',\n",
       "       'Courageous', 'Ingenious', 'Persuasive', 'Confusing', 'Obnoxious',\n",
       "       'Unconvincing', 'Beautiful', 'Funny', 'Fascinating', 'month_filmDate',\n",
       "       'year_FD', 'theme'],\n",
       "      dtype='object')"
      ]
     },
     "execution_count": 63,
     "metadata": {},
     "output_type": "execute_result"
    }
   ],
   "source": [
    "theme_df = data.drop('tags', axis=1).join(s)\n",
    "theme_df.columns"
   ]
  },
  {
   "cell_type": "code",
   "execution_count": 64,
   "metadata": {},
   "outputs": [
    {
     "data": {
      "text/html": [
       "<div>\n",
       "<style>\n",
       "    .dataframe thead tr:only-child th {\n",
       "        text-align: right;\n",
       "    }\n",
       "\n",
       "    .dataframe thead th {\n",
       "        text-align: left;\n",
       "    }\n",
       "\n",
       "    .dataframe tbody tr th {\n",
       "        vertical-align: top;\n",
       "    }\n",
       "</style>\n",
       "<table border=\"1\" class=\"dataframe\">\n",
       "  <thead>\n",
       "    <tr style=\"text-align: right;\">\n",
       "      <th></th>\n",
       "      <th>theme</th>\n",
       "      <th>talks</th>\n",
       "    </tr>\n",
       "  </thead>\n",
       "  <tbody>\n",
       "    <tr>\n",
       "      <th>0</th>\n",
       "      <td>technology</td>\n",
       "      <td>727</td>\n",
       "    </tr>\n",
       "    <tr>\n",
       "      <th>1</th>\n",
       "      <td>science</td>\n",
       "      <td>567</td>\n",
       "    </tr>\n",
       "    <tr>\n",
       "      <th>2</th>\n",
       "      <td>global issues</td>\n",
       "      <td>501</td>\n",
       "    </tr>\n",
       "    <tr>\n",
       "      <th>3</th>\n",
       "      <td>culture</td>\n",
       "      <td>486</td>\n",
       "    </tr>\n",
       "    <tr>\n",
       "      <th>4</th>\n",
       "      <td>TEDx</td>\n",
       "      <td>450</td>\n",
       "    </tr>\n",
       "    <tr>\n",
       "      <th>5</th>\n",
       "      <td>design</td>\n",
       "      <td>418</td>\n",
       "    </tr>\n",
       "    <tr>\n",
       "      <th>6</th>\n",
       "      <td>business</td>\n",
       "      <td>348</td>\n",
       "    </tr>\n",
       "    <tr>\n",
       "      <th>7</th>\n",
       "      <td>entertainment</td>\n",
       "      <td>299</td>\n",
       "    </tr>\n",
       "    <tr>\n",
       "      <th>8</th>\n",
       "      <td>health</td>\n",
       "      <td>236</td>\n",
       "    </tr>\n",
       "    <tr>\n",
       "      <th>9</th>\n",
       "      <td>innovation</td>\n",
       "      <td>229</td>\n",
       "    </tr>\n",
       "  </tbody>\n",
       "</table>\n",
       "</div>"
      ],
      "text/plain": [
       "           theme  talks\n",
       "0     technology    727\n",
       "1        science    567\n",
       "2  global issues    501\n",
       "3        culture    486\n",
       "4           TEDx    450\n",
       "5         design    418\n",
       "6       business    348\n",
       "7  entertainment    299\n",
       "8         health    236\n",
       "9     innovation    229"
      ]
     },
     "execution_count": 64,
     "metadata": {},
     "output_type": "execute_result"
    }
   ],
   "source": [
    "pop_themes = pd.DataFrame(theme_df['theme'].value_counts()).reset_index()\n",
    "pop_themes.columns = ['theme', 'talks']\n",
    "pop_themes.head(10)"
   ]
  },
  {
   "cell_type": "code",
   "execution_count": 65,
   "metadata": {},
   "outputs": [
    {
     "data": {
      "image/png": "[encoded data removed]",
      "text/plain": [
       "<matplotlib.figure.Figure at 0x296bc9f7e10>"
      ]
     },
     "metadata": {},
     "output_type": "display_data"
    }
   ],
   "source": [
    "plt.figure(figsize=(15,5))\n",
    "sns.barplot(x='theme', y='talks', data=pop_themes.head(10))\n",
    "plt.show()"
   ]
  },
  {
   "cell_type": "markdown",
   "metadata": {},
   "source": [
    "The above plot shows which themes have the maximum talks"
   ]
  },
  {
   "cell_type": "code",
   "execution_count": 66,
   "metadata": {
    "collapsed": true
   },
   "outputs": [],
   "source": [
    "data['publish_year'] = data['published_date'].apply(lambda x: x.split('-')[2])"
   ]
  },
  {
   "cell_type": "code",
   "execution_count": 69,
   "metadata": {},
   "outputs": [
    {
     "data": {
      "text/plain": [
       "Index(['comments', 'description', 'duration', 'event', 'film_date',\n",
       "       'languages', 'main_speaker', 'name', 'num_speaker', 'published_date',\n",
       "       'ratings', 'related_talks', 'speaker_occupation', 'tags', 'title',\n",
       "       'url', 'views', 'Jaw-dropping', 'Inspiring', 'Informative', 'OK',\n",
       "       'Longwinded', 'Courageous', 'Ingenious', 'Persuasive', 'Confusing',\n",
       "       'Obnoxious', 'Unconvincing', 'Beautiful', 'Funny', 'Fascinating',\n",
       "       'month_filmDate', 'year_FD', 'publish_year'],\n",
       "      dtype='object')"
      ]
     },
     "execution_count": 69,
     "metadata": {},
     "output_type": "execute_result"
    }
   ],
   "source": [
    "data.columns"
   ]
  },
  {
   "cell_type": "code",
   "execution_count": 88,
   "metadata": {},
   "outputs": [
    {
     "data": {
      "image/png": "[encoded data removed]",
      "text/plain": [
       "<matplotlib.figure.Figure at 0x296b3213e80>"
      ]
     },
     "metadata": {},
     "output_type": "display_data"
    },
    {
     "data": {
      "text/plain": [
       "<matplotlib.figure.Figure at 0x296b380fc88>"
      ]
     },
     "metadata": {},
     "output_type": "display_data"
    }
   ],
   "source": [
    "import matplotlib.pyplot as plt\n",
    "import numpy as np\n",
    "x = data['publish_year']\n",
    "\n",
    "fig, ax = plt.subplots(4,4,figsize=(20,15))\n",
    "ax[0,0].plot(x, data['Jaw-dropping'])\n",
    "ax[0,1].plot(x, data['Inspiring'])\n",
    "ax[0,2].plot(x, data['Informative'])\n",
    "ax[0,3].plot(x, data['OK'])\n",
    "\n",
    "ax[1,0].plot(x, data['Courageous'])\n",
    "ax[1,1].plot(x, data['Confusing'])\n",
    "ax[1,2].plot(x, data['Ingenious'])\n",
    "ax[1,3].plot(x, data['Persuasive'])\n",
    "\n",
    "ax[2,0].plot(x, data['Obnoxious'])\n",
    "ax[2,1].plot(x, data['Unconvincing'])\n",
    "ax[2,2].plot(x, data['Beautiful'])\n",
    "ax[2,3].plot(x, data['Funny'])\n",
    "\n",
    "ax[3,0].plot(x, data['Longwinded'])\n",
    "ax[3,1].plot(x, data['Fascinating'])\n",
    "\n",
    "\n",
    "plt.figure(figsize=(30,15))\n",
    "plt.show()\n"
   ]
  },
  {
   "cell_type": "markdown",
   "metadata": {},
   "source": [
    "The above plots show total count of each rating for all the talks from the year 2006 to 2017"
   ]
  },
  {
   "cell_type": "code",
   "execution_count": null,
   "metadata": {
    "collapsed": true
   },
   "outputs": [],
   "source": [
    "#x.set_xlabel('Publish Year')\n",
    "#x.set_ylabel('Count')\n",
    "ax1.set_title('Jaw-dropping')\n",
    "ax2.set_title('nspiring')\n",
    "ax3set_title('Informative')\n",
    "ax4set_title('OK')\n",
    "\n",
    "ax5.set_title('Courageous')\n",
    "ax6.set_title('Confusing')\n",
    "ax7.set_title('Ingenious')\n",
    "ax8.set_title('Persuasive')\n",
    "\n",
    "ax9.set_title('Obnoxious')\n",
    "ax10.set_title('Unconvincing')\n",
    "ax11.set_title('Beautiful')\n",
    "ax12.set_title('Funny')\n",
    "\n",
    "ax13.set_title('Longwinded')\n",
    "ax14.set_title('Fascinating')\n"
   ]
  },
  {
   "cell_type": "code",
   "execution_count": 80,
   "metadata": {},
   "outputs": [
    {
     "data": {
      "text/plain": [
       "<seaborn.axisgrid.JointGrid at 0x296b306c3c8>"
      ]
     },
     "execution_count": 80,
     "metadata": {},
     "output_type": "execute_result"
    },
    {
     "data": {
      "image/png": "[encoded data removed]",
      "text/plain": [
       "<matplotlib.figure.Figure at 0x296b87575f8>"
      ]
     },
     "metadata": {},
     "output_type": "display_data"
    }
   ],
   "source": [
    "#CONCURRENCY\n",
    "sns.jointplot(x='views', y='comments', data=df)"
   ]
  },
  {
   "cell_type": "code",
   "execution_count": 89,
   "metadata": {},
   "outputs": [
    {
     "data": {
      "text/html": [
       "<div>\n",
       "<style>\n",
       "    .dataframe thead tr:only-child th {\n",
       "        text-align: right;\n",
       "    }\n",
       "\n",
       "    .dataframe thead th {\n",
       "        text-align: left;\n",
       "    }\n",
       "\n",
       "    .dataframe tbody tr th {\n",
       "        vertical-align: top;\n",
       "    }\n",
       "</style>\n",
       "<table border=\"1\" class=\"dataframe\">\n",
       "  <thead>\n",
       "    <tr style=\"text-align: right;\">\n",
       "      <th></th>\n",
       "      <th>views</th>\n",
       "      <th>comments</th>\n",
       "    </tr>\n",
       "  </thead>\n",
       "  <tbody>\n",
       "    <tr>\n",
       "      <th>views</th>\n",
       "      <td>1.000000</td>\n",
       "      <td>0.530939</td>\n",
       "    </tr>\n",
       "    <tr>\n",
       "      <th>comments</th>\n",
       "      <td>0.530939</td>\n",
       "      <td>1.000000</td>\n",
       "    </tr>\n",
       "  </tbody>\n",
       "</table>\n",
       "</div>"
      ],
      "text/plain": [
       "             views  comments\n",
       "views     1.000000  0.530939\n",
       "comments  0.530939  1.000000"
      ]
     },
     "execution_count": 89,
     "metadata": {},
     "output_type": "execute_result"
    }
   ],
   "source": [
    "df[['views', 'comments']].corr()"
   ]
  },
  {
   "cell_type": "markdown",
   "metadata": {},
   "source": [
    "The pearson coefficient is slightly more than 0.5. This suggests a medium to strong correlation between the two quantities."
   ]
  },
  {
   "cell_type": "code",
   "execution_count": 81,
   "metadata": {},
   "outputs": [
    {
     "data": {
      "image/png": "[encoded data removed]",
      "text/plain": [
       "<matplotlib.figure.Figure at 0x296b3391320>"
      ]
     },
     "metadata": {},
     "output_type": "display_data"
    }
   ],
   "source": [
    "sns.jointplot(x='languages', y='views', data=df)\n",
    "plt.show()"
   ]
  },
  {
   "cell_type": "markdown",
   "metadata": {},
   "source": [
    "The Pearson coefficient is 0.38 suggesting a medium correlation between the aforementioned quantities."
   ]
  },
  {
   "cell_type": "code",
   "execution_count": 82,
   "metadata": {
    "collapsed": true
   },
   "outputs": [],
   "source": [
    "df = pd.read_csv('C:/Users/mehta/Desktop/ted_main.csv')"
   ]
  },
  {
   "cell_type": "code",
   "execution_count": 83,
   "metadata": {
    "collapsed": true
   },
   "outputs": [],
   "source": [
    "df['duration'] = df['duration']/60"
   ]
  },
  {
   "cell_type": "code",
   "execution_count": 84,
   "metadata": {},
   "outputs": [
    {
     "data": {
      "image/png": "[encoded data removed]",
      "text/plain": [
       "<matplotlib.figure.Figure at 0x296b982e2b0>"
      ]
     },
     "metadata": {},
     "output_type": "display_data"
    }
   ],
   "source": [
    "sns.jointplot(x='duration', y='views', data=df[df['duration'] < 25])\n",
    "plt.xlabel('Duration')\n",
    "plt.ylabel('Views')\n",
    "plt.show()"
   ]
  },
  {
   "cell_type": "markdown",
   "metadata": {},
   "source": [
    "There seems to be almost no correlation between these two quantities. This strongly suggests that there is no tangible correlation between the length and the popularity of a TED Talk. "
   ]
  },
  {
   "cell_type": "markdown",
   "metadata": {},
   "source": [
    "# Part B "
   ]
  },
  {
   "cell_type": "markdown",
   "metadata": {},
   "source": [
    "# Machine Learing Algorithm"
   ]
  },
  {
   "cell_type": "markdown",
   "metadata": {},
   "source": [
    "Data sources : https://www.kaggle.com/rounakbanik/ted-talks"
   ]
  },
  {
   "cell_type": "code",
   "execution_count": 95,
   "metadata": {
    "collapsed": true
   },
   "outputs": [],
   "source": [
    "import re\n",
    "import random\n",
    "from scipy.stats import gaussian_kde\n",
    "from keras.models import Sequential\n",
    "from keras.layers import Dense, Activation, Dropout\n",
    "from keras.regularizers import l2\n",
    "from keras.optimizers import SGD\n",
    "from textblob import TextBlob\n",
    "\n",
    "plt.style.use('ggplot')\n",
    "\n",
    "df = pd.read_csv('C:/Users/mehta/Desktop/ted_main.csv')"
   ]
  },
  {
   "cell_type": "code",
   "execution_count": 96,
   "metadata": {
    "collapsed": true
   },
   "outputs": [],
   "source": [
    "df['ratings'] = df['ratings'].apply(lambda x: eval(str(x)))\n",
    "df['aggregateRatings'] = df['ratings'].apply(lambda x: \\\n",
    "                                            x[0]['count']+ \\\n",
    "                                            x[1]['count']- \\\n",
    "                                            x[2]['count']+ \\\n",
    "                                            x[3]['count']- \\\n",
    "                                            x[4]['count']- \\\n",
    "                                            x[5]['count']+ \\\n",
    "                                            x[6]['count']+ \\\n",
    "                                            x[7]['count']+ \\\n",
    "                                            x[8]['count']+ \\\n",
    "                                            x[9]['count']+ \\\n",
    "                                            x[10]['count']+ \\\n",
    "                                            x[11]['count']- \\\n",
    "                                            x[12]['count']- \\\n",
    "                                            x[13]['count'])\n",
    "ar = df['aggregateRatings']"
   ]
  },
  {
   "cell_type": "markdown",
   "metadata": {},
   "source": [
    "Examining the relationship between aggregate rating measure and some factors present in the data set"
   ]
  },
  {
   "cell_type": "code",
   "execution_count": 98,
   "metadata": {},
   "outputs": [
    {
     "data": {
      "image/png": "[encoded data removed]",
      "text/plain": [
       "<matplotlib.figure.Figure at 0x296b946b550>"
      ]
     },
     "metadata": {},
     "output_type": "display_data"
    }
   ],
   "source": [
    "df.plot.scatter(x='languages',y='aggregateRatings',color='black')\n",
    "#define convenience function for trend lines\n",
    "def plotTrendLine(x,y,data=df,color='red',logx=False,logy=False):\n",
    "    oldx = np.reshape(data[x].values,(-1,))\n",
    "    oldy = np.reshape(data[y].values,(-1,))\n",
    "    tempx = oldx\n",
    "    tempy = oldy\n",
    "    if logx:\n",
    "        tempx = np.log10(tempx)\n",
    "    if logy:\n",
    "        tempy = np.log10(tempy)\n",
    "    idx = np.isfinite(tempx) & np.isfinite(tempy)\n",
    "    z = np.polyfit(tempx[idx],tempy[idx],1)\n",
    "    tempy = z[0]*tempx+z[1]\n",
    "    plt.plot(oldx,tempy,color=color)\n",
    "    return z\n",
    "plotTrendLine('languages','aggregateRatings');"
   ]
  },
  {
   "cell_type": "markdown",
   "metadata": {},
   "source": [
    "There is a slight correlation between languages and ratings as was found in the above analysis"
   ]
  },
  {
   "cell_type": "code",
   "execution_count": 100,
   "metadata": {},
   "outputs": [
    {
     "data": {
      "image/png": "[encoded data removed]",
      "text/plain": [
       "<matplotlib.figure.Figure at 0x296b8989be0>"
      ]
     },
     "metadata": {},
     "output_type": "display_data"
    }
   ],
   "source": [
    "df.plot.scatter(x='views',y='aggregateRatings',color='black')\n",
    "plotTrendLine('views','aggregateRatings',logx=True);\n",
    "plt.xscale('log')"
   ]
  },
  {
   "cell_type": "code",
   "execution_count": 101,
   "metadata": {},
   "outputs": [
    {
     "data": {
      "image/png": "[encoded data removed]",
      "text/plain": [
       "<matplotlib.figure.Figure at 0x296b84b2748>"
      ]
     },
     "metadata": {},
     "output_type": "display_data"
    }
   ],
   "source": [
    "df.plot.scatter(x='comments',y='aggregateRatings',color='black')\n",
    "plotTrendLine('comments','aggregateRatings',logx=True);\n",
    "plt.xscale('log')"
   ]
  },
  {
   "cell_type": "markdown",
   "metadata": {},
   "source": [
    "There is a positive trend in both cases, with some outliers tending towards more negative ratings. It can be seen that the talks people liked seem to be more viewed and commented on, and thus rated more highly. However, this also introduces a rating bias toward more highly-viewed talks. Thus, we define a new data column which is aggregate rating per view:"
   ]
  },
  {
   "cell_type": "markdown",
   "metadata": {},
   "source": [
    "Source code : https://www.kaggle.com/lpang36/analysis-of-ted-talk-ratings"
   ]
  },
  {
   "cell_type": "code",
   "execution_count": 110,
   "metadata": {},
   "outputs": [
    {
     "data": {
      "text/plain": [
       "(1, 1100)"
      ]
     },
     "execution_count": 110,
     "metadata": {},
     "output_type": "execute_result"
    },
    {
     "data": {
      "image/png": "[encoded data removed]",
      "text/plain": [
       "<matplotlib.figure.Figure at 0x296b2f1e780>"
      ]
     },
     "metadata": {},
     "output_type": "display_data"
    }
   ],
   "source": [
    "df['perViewRatings'] = df['aggregateRatings']/df['views']\n",
    "plt.hist(x=df['perViewRatings'],bins=50,range=(-0.002,0.004),color='black')\n",
    "#convenience function for density curve plotting\n",
    "def plotDensityCurve(x,linspace,covariance_factor=0.25,multiplier=1,data=df,color='red'):\n",
    "    if data is not None:\n",
    "        tempx = np.reshape(data[x].values,(-1,))\n",
    "    else:\n",
    "        tempx = x\n",
    "    density = gaussian_kde(tempx)\n",
    "    xs = np.linspace(linspace[0],linspace[1],linspace[2])\n",
    "    density.covariance_factor = lambda: covariance_factor\n",
    "    density._compute_covariance()\n",
    "    plt.plot(xs,density(xs)*multiplier)\n",
    "plotDensityCurve('perViewRatings',(-0.002,0.004,50))\n",
    "plt.yscale('log')\n",
    "plt.ylim((1,1100))"
   ]
  },
  {
   "cell_type": "markdown",
   "metadata": {},
   "source": [
    "It can concluded from the above diagram that most talks fall on the positive side and most ratings given are positive."
   ]
  },
  {
   "cell_type": "code",
   "execution_count": 114,
   "metadata": {},
   "outputs": [
    {
     "name": "stdout",
     "output_type": "stream",
     "text": [
      "Slope: 0.000280225304008\n"
     ]
    },
    {
     "data": {
      "image/png": "[encoded data removed]",
      "text/plain": [
       "<matplotlib.figure.Figure at 0x296b3250630>"
      ]
     },
     "metadata": {},
     "output_type": "display_data"
    }
   ],
   "source": [
    "df.plot.scatter(x='comments',y='perViewRatings',color='black')\n",
    "coeffs = plotTrendLine('comments','perViewRatings',logx=True);\n",
    "plt.xscale('log')\n",
    "print(\"Slope: \"+str(coeffs[0]))"
   ]
  },
  {
   "cell_type": "code",
   "execution_count": 116,
   "metadata": {},
   "outputs": [
    {
     "name": "stdout",
     "output_type": "stream",
     "text": [
      "Slope: -0.000170468877954\n"
     ]
    },
    {
     "data": {
      "image/png": "[encoded data removed]",
      "text/plain": [
       "<matplotlib.figure.Figure at 0x296b90deb38>"
      ]
     },
     "metadata": {},
     "output_type": "display_data"
    }
   ],
   "source": [
    "df.plot.scatter(x='views',y='perViewRatings',color='black')\n",
    "coeffs = plotTrendLine('views','perViewRatings',logx=True);\n",
    "plt.xscale('log')\n",
    "print(\"Slope: \"+str(coeffs[0]))"
   ]
  },
  {
   "cell_type": "markdown",
   "metadata": {},
   "source": [
    "While more comments seem to indicate higher ratings per view, the opposite is true for number of views."
   ]
  },
  {
   "cell_type": "markdown",
   "metadata": {},
   "source": [
    "### Selecting relevant features"
   ]
  },
  {
   "cell_type": "markdown",
   "metadata": {},
   "source": [
    "The following are the columns consisting the numerical values from the dataset"
   ]
  },
  {
   "cell_type": "code",
   "execution_count": 117,
   "metadata": {
    "collapsed": true
   },
   "outputs": [],
   "source": [
    "df['perViewRatings'] = df['aggregateRatings']/df['views']\n",
    "mldf = df[['num_speaker','duration','comments','languages','views']]"
   ]
  },
  {
   "cell_type": "markdown",
   "metadata": {},
   "source": [
    "This just consists of numerical values which already exist in the TED talks data set. However, it leaves out a lot of factors, such as the title and description of the talk. It can be analyzed with natural language processing.\n",
    "\n",
    "There are a few approaches that can be taken. One of the possibilities is to perform a sentiment analysis on the description or the title and consider this a feature. We can do this with the TextBlob library:"
   ]
  },
  {
   "cell_type": "code",
   "execution_count": 149,
   "metadata": {},
   "outputs": [
    {
     "name": "stdout",
     "output_type": "stream",
     "text": [
      "Sentiment: \n",
      "0    0.291667\n",
      "1   -0.115909\n",
      "2   -0.081981\n",
      "3    0.000000\n",
      "4    0.000000\n",
      "Name: descriptionSentiment, dtype: float64\n",
      "Description: \n",
      "0    Sir Ken Robinson makes an entertaining and pro...\n",
      "1    With the same humor and humanity he exuded in ...\n",
      "2    New York Times columnist David Pogue takes aim...\n",
      "3    In an emotionally charged talk, MacArthur-winn...\n",
      "4    You've never seen data presented like this. Wi...\n",
      "Name: description, dtype: object\n"
     ]
    },
    {
     "name": "stderr",
     "output_type": "stream",
     "text": [
      "C:\\Users\\mehta\\Anaconda3\\lib\\site-packages\\ipykernel_launcher.py:1: SettingWithCopyWarning: \n",
      "A value is trying to be set on a copy of a slice from a DataFrame.\n",
      "Try using .loc[row_indexer,col_indexer] = value instead\n",
      "\n",
      "See the caveats in the documentation: http://pandas.pydata.org/pandas-docs/stable/indexing.html#indexing-view-versus-copy\n",
      "  \"\"\"Entry point for launching an IPython kernel.\n"
     ]
    }
   ],
   "source": [
    "mldf['descriptionSentiment'] = df['description'].apply(lambda x:TextBlob(re.sub(r'[^\\x00-\\x7f]',r'',x)).sentiment.polarity)\n",
    "print(\"Sentiment: \")\n",
    "print(mldf['descriptionSentiment'].head())\n",
    "print(\"Description: \")\n",
    "print(df['description'].head())"
   ]
  },
  {
   "cell_type": "markdown",
   "metadata": {},
   "source": [
    "Analyzing the various Tags is one option"
   ]
  },
  {
   "cell_type": "code",
   "execution_count": 119,
   "metadata": {
    "collapsed": true
   },
   "outputs": [],
   "source": [
    "df['tags'] = df['tags'].apply(lambda x:eval(str(x)))\n",
    "all_tags = {}\n",
    "count = 0\n",
    "for talk in df['tags']:\n",
    "    for tag in talk:\n",
    "        if not tag in all_tags:\n",
    "            all_tags[tag] = count\n",
    "            count = count+1\n",
    "onehot = np.zeros((0,count))\n",
    "for talk in df['tags']:\n",
    "    temp = np.zeros((1,count))\n",
    "    for tag in talk:\n",
    "        temp[0,all_tags[tag]] = 1\n",
    "    onehot = np.concatenate((onehot,temp),0)"
   ]
  },
  {
   "cell_type": "markdown",
   "metadata": {},
   "source": [
    "The model will be a neural network, implemented in Keras using a TensorFlow backend. Create the training and testing data sets."
   ]
  },
  {
   "cell_type": "code",
   "execution_count": 182,
   "metadata": {
    "collapsed": true
   },
   "outputs": [],
   "source": [
    "mldf_np = mldf.as_matrix()\n",
    "all_y = np.reshape(df['perViewRatings'].as_matrix(),(-1,1))\n",
    "all_x = np.concatenate((mldf_np,onehot),1)\n",
    "combined = np.concatenate((all_x,all_y),1)\n",
    "np.random.shuffle(combined)\n",
    "data_size = np.shape(all_y)[0]\n",
    "train_size = (int)(data_size*0.75)\n",
    "feature_size = np.shape(all_x)[1]\n",
    "x_train = combined[0:train_size,0:feature_size]\n",
    "y_train = combined[0:train_size,feature_size]\n",
    "x_val = combined[train_size:data_size,0:feature_size]\n",
    "y_val = combined[train_size:data_size,feature_size]"
   ]
  },
  {
   "cell_type": "code",
   "execution_count": 183,
   "metadata": {},
   "outputs": [
    {
     "name": "stdout",
     "output_type": "stream",
     "text": [
      "Train on 1912 samples, validate on 638 samples\n",
      "Epoch 1/20\n",
      "1912/1912 [==============================] - 0s 261us/step - loss: 20327621055.4979 - val_loss: 1524991.4616\n",
      "Epoch 2/20\n",
      "1912/1912 [==============================] - 0s 48us/step - loss: 783611950.8431 - val_loss: 50403942.3511\n",
      "Epoch 3/20\n",
      "1912/1912 [==============================] - 0s 63us/step - loss: 33025977.6506 - val_loss: 6817123.3613\n",
      "Epoch 4/20\n",
      "1912/1912 [==============================] - 0s 51us/step - loss: 4089033.6048 - val_loss: 1115928.6185\n",
      "Epoch 5/20\n",
      "1912/1912 [==============================] - 0s 56us/step - loss: 267576.6383 - val_loss: 44571.7450\n",
      "Epoch 6/20\n",
      "1912/1912 [==============================] - 0s 72us/step - loss: 37379.1382 - val_loss: 29572.5127\n",
      "Epoch 7/20\n",
      "1912/1912 [==============================] - 0s 62us/step - loss: 38747.6054 - val_loss: 30973.2443\n",
      "Epoch 8/20\n",
      "1912/1912 [==============================] - 0s 55us/step - loss: 46456.1072 - val_loss: 49629.5126\n",
      "Epoch 9/20\n",
      "1912/1912 [==============================] - 0s 50us/step - loss: 42094.7820 - val_loss: 36386.0241\n",
      "Epoch 10/20\n",
      "1912/1912 [==============================] - 0s 54us/step - loss: 44992.8380 - val_loss: 33708.2401\n",
      "Epoch 11/20\n",
      "1912/1912 [==============================] - 0s 57us/step - loss: 36170.9962 - val_loss: 27810.0002\n",
      "Epoch 12/20\n",
      "1912/1912 [==============================] - 0s 55us/step - loss: 42094.0774 - val_loss: 32710.0182\n",
      "Epoch 13/20\n",
      "1912/1912 [==============================] - 0s 53us/step - loss: 33316.5569 - val_loss: 30866.2581\n",
      "Epoch 14/20\n",
      "1912/1912 [==============================] - 0s 59us/step - loss: 32958.6611 - val_loss: 30785.1729\n",
      "Epoch 15/20\n",
      "1912/1912 [==============================] - 0s 64us/step - loss: 30763.6369 - val_loss: 26097.0871\n",
      "Epoch 16/20\n",
      "1912/1912 [==============================] - 0s 54us/step - loss: 33243.9837 - val_loss: 45931.0673\n",
      "Epoch 17/20\n",
      "1912/1912 [==============================] - 0s 60us/step - loss: 34026.4447 - val_loss: 31174.3781\n",
      "Epoch 18/20\n",
      "1912/1912 [==============================] - 0s 58us/step - loss: 32109.9468 - val_loss: 39089.3754\n",
      "Epoch 19/20\n",
      "1912/1912 [==============================] - 0s 56us/step - loss: 29677.1460 - val_loss: 23194.2883\n",
      "Epoch 20/20\n",
      "1912/1912 [==============================] - 0s 52us/step - loss: 29772.5826 - val_loss: 24591.3666\n"
     ]
    }
   ],
   "source": [
    "model = Sequential()\n",
    "model.add(Dense(64,input_dim=feature_size,kernel_regularizer=l2(0.01)))\n",
    "model.add(Dense(1))\n",
    "model.compile(loss='mean_squared_error',optimizer=\"adam\")\n",
    "history = model.fit(x=x_train,y=y_train,batch_size=64,epochs=20,validation_data=(x_val,y_val))"
   ]
  },
  {
   "cell_type": "markdown",
   "metadata": {},
   "source": [
    "From the decreasing loss values in both the test and validation data sets it can be concluded that this model give good accuracy"
   ]
  },
  {
   "cell_type": "code",
   "execution_count": 184,
   "metadata": {},
   "outputs": [
    {
     "data": {
      "image/png": "[encoded data removed]",
      "text/plain": [
       "<matplotlib.figure.Figure at 0x2a3aa4b3f98>"
      ]
     },
     "metadata": {},
     "output_type": "display_data"
    }
   ],
   "source": [
    "loss = history.history['loss']\n",
    "val_loss = history.history['val_loss']\n",
    "epochs = np.arange(1,21)\n",
    "plt.plot(epochs,loss,color='red')\n",
    "plt.plot(epochs,val_loss,color='blue')\n",
    "plt.yscale('log')"
   ]
  },
  {
   "cell_type": "markdown",
   "metadata": {
    "collapsed": true
   },
   "source": [
    "This neural network works well but it is possibly difficult to interpret due to the hidden layer. Thus, a simpler version, with no hidden layer and linear activation is trained."
   ]
  },
  {
   "cell_type": "code",
   "execution_count": 185,
   "metadata": {},
   "outputs": [
    {
     "name": "stdout",
     "output_type": "stream",
     "text": [
      "Train on 1912 samples, validate on 638 samples\n",
      "Epoch 1/20\n",
      "1912/1912 [==============================] - 0s 190us/step - loss: 94881227591.7657 - val_loss: 41405806752.5016\n",
      "Epoch 2/20\n",
      "1912/1912 [==============================] - 0s 29us/step - loss: 56613212228.5523 - val_loss: 23008610198.0690\n",
      "Epoch 3/20\n",
      "1912/1912 [==============================] - 0s 30us/step - loss: 31489076228.2845 - val_loss: 12486683840.6019\n",
      "Epoch 4/20\n",
      "1912/1912 [==============================] - 0s 34us/step - loss: 16344118864.3347 - val_loss: 6501651882.1317\n",
      "Epoch 5/20\n",
      "1912/1912 [==============================] - 0s 29us/step - loss: 8387100274.6109 - val_loss: 2736274905.4796\n",
      "Epoch 6/20\n",
      "1912/1912 [==============================] - 0s 32us/step - loss: 3562340537.8410 - val_loss: 1161535906.3072\n",
      "Epoch 7/20\n",
      "1912/1912 [==============================] - 0s 31us/step - loss: 1478439037.3222 - val_loss: 450575042.8589\n",
      "Epoch 8/20\n",
      "1912/1912 [==============================] - 0s 45us/step - loss: 545848012.1841 - val_loss: 163732645.3417\n",
      "Epoch 9/20\n",
      "1912/1912 [==============================] - 0s 60us/step - loss: 193570674.9623 - val_loss: 50345242.8527\n",
      "Epoch 10/20\n",
      "1912/1912 [==============================] - 0s 51us/step - loss: 56850691.4477 - val_loss: 16271603.2492\n",
      "Epoch 11/20\n",
      "1912/1912 [==============================] - 0s 30us/step - loss: 16694981.6172 - val_loss: 4567278.8774\n",
      "Epoch 12/20\n",
      "1912/1912 [==============================] - 0s 47us/step - loss: 4536439.4686 - val_loss: 981374.9476\n",
      "Epoch 13/20\n",
      "1912/1912 [==============================] - 0s 65us/step - loss: 1030995.7176 - val_loss: 206069.7294\n",
      "Epoch 14/20\n",
      "1912/1912 [==============================] - 0s 46us/step - loss: 228081.0989 - val_loss: 45345.8917\n",
      "Epoch 15/20\n",
      "1912/1912 [==============================] - 0s 57us/step - loss: 60724.7983 - val_loss: 21955.7964\n",
      "Epoch 16/20\n",
      "1912/1912 [==============================] - 0s 52us/step - loss: 31283.6267 - val_loss: 20260.0905\n",
      "Epoch 17/20\n",
      "1912/1912 [==============================] - 0s 70us/step - loss: 25212.9376 - val_loss: 20921.7257\n",
      "Epoch 18/20\n",
      "1912/1912 [==============================] - 0s 44us/step - loss: 24480.0741 - val_loss: 21632.6428\n",
      "Epoch 19/20\n",
      "1912/1912 [==============================] - 0s 49us/step - loss: 24265.6411 - val_loss: 21842.6321\n",
      "Epoch 20/20\n",
      "1912/1912 [==============================] - 0s 45us/step - loss: 24225.7659 - val_loss: 21786.0962\n"
     ]
    }
   ],
   "source": [
    "model = Sequential()\n",
    "model.add(Dense(1,input_dim=feature_size,kernel_regularizer=l2(0.01)))\n",
    "model.compile(loss='mean_squared_error',optimizer=\"adam\")\n",
    "history = model.fit(x=x_train,y=y_train,batch_size=64,epochs=20,validation_data=(x_val,y_val))"
   ]
  },
  {
   "cell_type": "code",
   "execution_count": 186,
   "metadata": {},
   "outputs": [
    {
     "data": {
      "image/png": "[encoded data removed]",
      "text/plain": [
       "<matplotlib.figure.Figure at 0x2a3a5dc42e8>"
      ]
     },
     "metadata": {},
     "output_type": "display_data"
    }
   ],
   "source": [
    "loss = history.history['loss']\n",
    "val_loss = history.history['val_loss']\n",
    "epochs = np.arange(1,21)\n",
    "plt.plot(epochs,loss,color='red')\n",
    "plt.plot(epochs,val_loss,color='blue')\n",
    "plt.yscale('log')"
   ]
  },
  {
   "cell_type": "markdown",
   "metadata": {},
   "source": [
    "This neural network is being easier to understand. As this neural network has linear activation with no hidden layers, its weights can be interpreted as directly affecting the final rating per view. A positive weight would indicate some correlation between that feature and rating per view, and vice versa."
   ]
  },
  {
   "cell_type": "markdown",
   "metadata": {},
   "source": [
    "## Factor Analysis"
   ]
  },
  {
   "cell_type": "markdown",
   "metadata": {},
   "source": [
    "We first split the weights into two categories.\n",
    "a) existing_weights consists of the existing numerical features in the data set, as well as the sentiment of the description.\n",
    "b) tag_weights, a larger set of features, consists of the weights of each TED talk tag.\n"
   ]
  },
  {
   "cell_type": "code",
   "execution_count": 187,
   "metadata": {
    "collapsed": true
   },
   "outputs": [],
   "source": [
    "all_weights_temp = model.layers[0].get_weights()[0]\n",
    "all_weights = []\n",
    "for weight in all_weights_temp:\n",
    "    all_weights.append(weight[0])\n",
    "existing_weights = all_weights[:6]\n",
    "tag_weights = all_weights[6:]"
   ]
  },
  {
   "cell_type": "code",
   "execution_count": 188,
   "metadata": {},
   "outputs": [
    {
     "data": {
      "image/png": "[encoded data removed]",
      "text/plain": [
       "<matplotlib.figure.Figure at 0x2a3a5e4af98>"
      ]
     },
     "metadata": {},
     "output_type": "display_data"
    }
   ],
   "source": [
    "fig,ax = plt.subplots()\n",
    "index = np.arange(0,6)\n",
    "ax.bar(index,existing_weights)\n",
    "ax.set_xticklabels(('','num_speaker','duration','comments','languages','views','sentiment'))\n",
    "plt.show()"
   ]
  },
  {
   "cell_type": "markdown",
   "metadata": {},
   "source": [
    "Examining each feature:\n",
    "\n",
    "1. Number of speakers: large positive coefficient. Talks with multiple speakers seem to be recieved more positively, possibly      due to the novelty.\n",
    "2. Duration: small negative coefficient. Longer talks might tend to bore the audience, perhaps scoring poorly on \"longwinded\" or    \"obnoxious\" ratings.\n",
    "3. Comments: small positive coefficient. It seems that talks rated highly are more likely to stimulate discussion, as one might    expect.\n",
    "4. Languages: large positive coefficient. Translating talks into different languages seems to garner positive ratings.\n",
    "5. Views: coefficient very close to zero. As we already control for this by dividing total ratings by views, this is probably      not a surprise.\n",
    "6. Sentiment: large positive coefficient. Talks with positive descriptions tend to also have higher ratings per viewer, which      seems intuitive.\n"
   ]
  },
  {
   "cell_type": "code",
   "execution_count": 189,
   "metadata": {},
   "outputs": [
    {
     "data": {
      "image/png": "[encoded data removed]",
      "text/plain": [
       "<matplotlib.figure.Figure at 0x2a3a602d518>"
      ]
     },
     "metadata": {},
     "output_type": "display_data"
    }
   ],
   "source": [
    "plt.hist(x=tag_weights,bins=30,range=(-0.1,0.2),color='black')\n",
    "plotDensityCurve(tag_weights,(-0.1,0.2,30),0.25,5,data=None)"
   ]
  },
  {
   "cell_type": "markdown",
   "metadata": {},
   "source": [
    "It can be seen that the distribution of tag weights follows a bimodal distribution, with one peak around 0.00 and one peak around 0.07 ( positive coefficient). Which tags are most strongly correlated with high ratings per view?"
   ]
  },
  {
   "cell_type": "code",
   "execution_count": 190,
   "metadata": {},
   "outputs": [
    {
     "name": "stdout",
     "output_type": "stream",
     "text": [
      "science\n",
      "biotech\n",
      "war\n",
      "sustainability\n",
      "performance\n",
      "Internet\n",
      "technology\n",
      "activism\n",
      "oceans\n",
      "United States\n"
     ]
    }
   ],
   "source": [
    "inverted_tags = dict([v,k] for k,v in all_tags.items())\n",
    "tag_columns = ('features',)\n",
    "tag_df = pd.DataFrame({'features': tag_weights})\n",
    "best_tags = tag_df.sort_values('features',ascending=False).head(10).index.tolist()\n",
    "for tag in best_tags:\n",
    "    print(inverted_tags[tag])"
   ]
  },
  {
   "cell_type": "code",
   "execution_count": 194,
   "metadata": {},
   "outputs": [
    {
     "name": "stdout",
     "output_type": "stream",
     "text": [
      "origami\n",
      "Google\n",
      "mobility\n",
      "resources\n",
      "Surgery\n",
      "mindfulness\n",
      "online video\n",
      "extreme sports\n",
      "narcotics\n",
      "performance art\n"
     ]
    }
   ],
   "source": [
    "worst_tags = tag_df.sort_values('features',ascending=True).head(10).index.tolist()\n",
    "for tag in worst_tags:\n",
    "    print(inverted_tags[tag])"
   ]
  },
  {
   "cell_type": "code",
   "execution_count": 191,
   "metadata": {},
   "outputs": [
    {
     "data": {
      "text/html": [
       "<div>\n",
       "<style>\n",
       "    .dataframe thead tr:only-child th {\n",
       "        text-align: right;\n",
       "    }\n",
       "\n",
       "    .dataframe thead th {\n",
       "        text-align: left;\n",
       "    }\n",
       "\n",
       "    .dataframe tbody tr th {\n",
       "        vertical-align: top;\n",
       "    }\n",
       "</style>\n",
       "<table border=\"1\" class=\"dataframe\">\n",
       "  <thead>\n",
       "    <tr style=\"text-align: right;\">\n",
       "      <th></th>\n",
       "      <th>theme</th>\n",
       "      <th>talks</th>\n",
       "    </tr>\n",
       "  </thead>\n",
       "  <tbody>\n",
       "    <tr>\n",
       "      <th>0</th>\n",
       "      <td>technology</td>\n",
       "      <td>727</td>\n",
       "    </tr>\n",
       "    <tr>\n",
       "      <th>1</th>\n",
       "      <td>science</td>\n",
       "      <td>567</td>\n",
       "    </tr>\n",
       "    <tr>\n",
       "      <th>2</th>\n",
       "      <td>global issues</td>\n",
       "      <td>501</td>\n",
       "    </tr>\n",
       "    <tr>\n",
       "      <th>3</th>\n",
       "      <td>culture</td>\n",
       "      <td>486</td>\n",
       "    </tr>\n",
       "    <tr>\n",
       "      <th>4</th>\n",
       "      <td>TEDx</td>\n",
       "      <td>450</td>\n",
       "    </tr>\n",
       "    <tr>\n",
       "      <th>5</th>\n",
       "      <td>design</td>\n",
       "      <td>418</td>\n",
       "    </tr>\n",
       "    <tr>\n",
       "      <th>6</th>\n",
       "      <td>business</td>\n",
       "      <td>348</td>\n",
       "    </tr>\n",
       "    <tr>\n",
       "      <th>7</th>\n",
       "      <td>entertainment</td>\n",
       "      <td>299</td>\n",
       "    </tr>\n",
       "    <tr>\n",
       "      <th>8</th>\n",
       "      <td>health</td>\n",
       "      <td>236</td>\n",
       "    </tr>\n",
       "    <tr>\n",
       "      <th>9</th>\n",
       "      <td>innovation</td>\n",
       "      <td>229</td>\n",
       "    </tr>\n",
       "    <tr>\n",
       "      <th>10</th>\n",
       "      <td>society</td>\n",
       "      <td>224</td>\n",
       "    </tr>\n",
       "    <tr>\n",
       "      <th>11</th>\n",
       "      <td>art</td>\n",
       "      <td>221</td>\n",
       "    </tr>\n",
       "    <tr>\n",
       "      <th>12</th>\n",
       "      <td>social change</td>\n",
       "      <td>218</td>\n",
       "    </tr>\n",
       "    <tr>\n",
       "      <th>13</th>\n",
       "      <td>future</td>\n",
       "      <td>195</td>\n",
       "    </tr>\n",
       "    <tr>\n",
       "      <th>14</th>\n",
       "      <td>communication</td>\n",
       "      <td>191</td>\n",
       "    </tr>\n",
       "    <tr>\n",
       "      <th>15</th>\n",
       "      <td>creativity</td>\n",
       "      <td>189</td>\n",
       "    </tr>\n",
       "    <tr>\n",
       "      <th>16</th>\n",
       "      <td>biology</td>\n",
       "      <td>189</td>\n",
       "    </tr>\n",
       "    <tr>\n",
       "      <th>17</th>\n",
       "      <td>humanity</td>\n",
       "      <td>182</td>\n",
       "    </tr>\n",
       "    <tr>\n",
       "      <th>18</th>\n",
       "      <td>collaboration</td>\n",
       "      <td>174</td>\n",
       "    </tr>\n",
       "    <tr>\n",
       "      <th>19</th>\n",
       "      <td>environment</td>\n",
       "      <td>165</td>\n",
       "    </tr>\n",
       "  </tbody>\n",
       "</table>\n",
       "</div>"
      ],
      "text/plain": [
       "            theme  talks\n",
       "0      technology    727\n",
       "1         science    567\n",
       "2   global issues    501\n",
       "3         culture    486\n",
       "4            TEDx    450\n",
       "5          design    418\n",
       "6        business    348\n",
       "7   entertainment    299\n",
       "8          health    236\n",
       "9      innovation    229\n",
       "10        society    224\n",
       "11            art    221\n",
       "12  social change    218\n",
       "13         future    195\n",
       "14  communication    191\n",
       "15     creativity    189\n",
       "16        biology    189\n",
       "17       humanity    182\n",
       "18  collaboration    174\n",
       "19    environment    165"
      ]
     },
     "execution_count": 191,
     "metadata": {},
     "output_type": "execute_result"
    }
   ],
   "source": [
    "s = df.apply(lambda x: pd.Series(x['tags']),axis=1).stack().reset_index(level=1, drop=True)\n",
    "s.name = 'theme'\n",
    "theme_df = df.drop('tags', axis=1).join(s)\n",
    "theme_df.head()\n",
    "pop_themes = pd.DataFrame(theme_df['theme'].value_counts()).reset_index()\n",
    "pop_themes.columns = ['theme', 'talks']\n",
    "top_themes = pop_themes.head(20)\n",
    "top_themes"
   ]
  },
  {
   "cell_type": "markdown",
   "metadata": {},
   "source": [
    "The most popular themes for talks, sorted by rating per view coefficient:"
   ]
  },
  {
   "cell_type": "code",
   "execution_count": 192,
   "metadata": {
    "collapsed": true
   },
   "outputs": [],
   "source": [
    "top_theme_list = []\n",
    "for theme in top_themes['theme'].tolist():\n",
    "    top_theme_list.append((theme,tag_df['features'].tolist()[all_tags[theme]]))\n",
    "sorted_list = sorted(top_theme_list,key=lambda x: -x[1])\n",
    "theme_list = []\n",
    "weight_list = []\n",
    "for pair in sorted_list:\n",
    "    theme_list.append(pair[0])\n",
    "    weight_list.append(pair[1])"
   ]
  },
  {
   "cell_type": "code",
   "execution_count": 193,
   "metadata": {},
   "outputs": [
    {
     "data": {
      "image/png": "[encoded data removed]",
      "text/plain": [
       "<matplotlib.figure.Figure at 0x2a3aeac1dd8>"
      ]
     },
     "metadata": {},
     "output_type": "display_data"
    }
   ],
   "source": [
    "fig,ax = plt.subplots()\n",
    "index = np.arange(0,20)\n",
    "ax.bar(index,weight_list)\n",
    "ax.set_xticklabels(theme_list)\n",
    "plt.xticks(index)\n",
    "for tick in ax.get_xticklabels():\n",
    "    tick.set_rotation(90)\n",
    "plt.show()"
   ]
  },
  {
   "cell_type": "markdown",
   "metadata": {},
   "source": [
    "We see that science, technology, collaboration, society and humanity tend to generate the highest ratings per view. All tags have positive correlations, but categories such as TEDx, environment, entertainment, and creativity have small positive  coefficients."
   ]
  },
  {
   "cell_type": "code",
   "execution_count": null,
   "metadata": {
    "collapsed": true
   },
   "outputs": [],
   "source": []
  }
 ],
 "metadata": {
  "kernelspec": {
   "display_name": "Python 3",
   "language": "python",
   "name": "python3"
  },
  "language_info": {
   "codemirror_mode": {
    "name": "ipython",
    "version": 3
   },
   "file_extension": ".py",
   "mimetype": "text/x-python",
   "name": "python",
   "nbconvert_exporter": "python",
   "pygments_lexer": "ipython3",
   "version": "3.6.3"
  }
 },
 "nbformat": 4,
 "nbformat_minor": 2
}
